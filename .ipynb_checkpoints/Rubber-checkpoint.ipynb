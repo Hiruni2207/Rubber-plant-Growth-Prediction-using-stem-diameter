{
 "cells": [
  {
   "cell_type": "code",
   "execution_count": 27,
   "id": "b4472098-7643-41af-bbd1-854112bb2816",
   "metadata": {},
   "outputs": [],
   "source": [
    "import pandas as pd\n",
    "import numpy as np\n",
    "from sklearn.model_selection import train_test_split\n",
    "from sklearn.ensemble import RandomForestRegressor, GradientBoostingRegressor\n",
    "from sklearn.linear_model import LinearRegression\n",
    "from sklearn.metrics import mean_absolute_error, mean_squared_error, r2_score\n",
    "from sklearn.preprocessing import StandardScaler\n",
    "import csv"
   ]
  },
  {
   "cell_type": "code",
   "execution_count": 28,
   "id": "b6ad02e3-36f2-4ddd-851d-28d71269c8a8",
   "metadata": {},
   "outputs": [
    {
     "name": "stderr",
     "output_type": "stream",
     "text": [
      "C:\\Users\\supereme\\AppData\\Local\\Temp\\ipykernel_8048\\1833873540.py:3: UserWarning: Parsing dates in %d/%m/%Y format when dayfirst=False (the default) was specified. Pass `dayfirst=True` or specify a format to silence this warning.\n",
      "  diameter_data = pd.read_csv('diameter.csv', parse_dates=['Date'])\n"
     ]
    }
   ],
   "source": [
    "moisture_data = pd.read_csv('temparature.csv', parse_dates=['Date'])\n",
    "temperature_data = pd.read_csv('moisture.csv', parse_dates=['Date'])\n",
    "diameter_data = pd.read_csv('diameter.csv', parse_dates=['Date'])"
   ]
  },
  {
   "cell_type": "code",
   "execution_count": 29,
   "id": "69356dad-dc44-41e2-8f7f-324a9345f95f",
   "metadata": {},
   "outputs": [],
   "source": [
    "# Merge the datasets\n",
    "moisture_data.columns = ['Date', 'Moisture_I0', 'Moisture_I3', 'Moisture_I5']\n",
    "temperature_data.columns = ['Date', 'Temp_I0', 'Temp_I3', 'Temp_I5']\n",
    "diameter_data.columns = ['Date', 'Diameter_I0', 'Diameter_I3', 'Diameter_I5']\n",
    "\n",
    "merged_data = pd.merge(moisture_data, temperature_data, on='Date', how='inner')\n",
    "merged_data = pd.merge(merged_data, diameter_data, on='Date', how='inner')"
   ]
  },
  {
   "cell_type": "code",
   "execution_count": 34,
   "id": "b5100b7d-8e43-4ed9-81fb-9d3f3a8777bd",
   "metadata": {},
   "outputs": [],
   "source": [
    "# Fill missing values using forward fill\n",
    "merged_data = merged_data.ffill()\n"
   ]
  },
  {
   "cell_type": "code",
   "execution_count": 35,
   "id": "542c6c4f-370f-4720-8882-2bc1c3148644",
   "metadata": {},
   "outputs": [
    {
     "data": {
      "text/plain": [
       "<bound method NDFrame.head of          Date  DayOfYear     Variable  Value\n",
       "0  2022-03-31         90  Moisture_I0  31.10\n",
       "1  2022-04-18        108  Moisture_I0  32.65\n",
       "2  2022-04-29        119  Moisture_I0  29.70\n",
       "3  2022-03-31         90      Temp_I0  17.65\n",
       "4  2022-04-18        108      Temp_I0  16.71\n",
       "5  2022-04-29        119      Temp_I0  16.91\n",
       "6  2022-03-31         90  Moisture_I3  31.23\n",
       "7  2022-04-18        108  Moisture_I3  31.27\n",
       "8  2022-04-29        119  Moisture_I3  31.20\n",
       "9  2022-03-31         90      Temp_I3   5.73\n",
       "10 2022-04-18        108      Temp_I3  18.12\n",
       "11 2022-04-29        119      Temp_I3   1.98\n",
       "12 2022-03-31         90  Moisture_I5  32.10\n",
       "13 2022-04-18        108  Moisture_I5  31.53\n",
       "14 2022-04-29        119  Moisture_I5  31.03\n",
       "15 2022-03-31         90      Temp_I5   7.03\n",
       "16 2022-04-18        108      Temp_I5   6.53\n",
       "17 2022-04-29        119      Temp_I5   6.26\n",
       "18 2022-03-31         90  Diameter_I0   5.02\n",
       "19 2022-04-18        108  Diameter_I0   5.80\n",
       "20 2022-04-29        119  Diameter_I0   6.66\n",
       "21 2022-03-31         90  Diameter_I3   4.93\n",
       "22 2022-04-18        108  Diameter_I3   5.56\n",
       "23 2022-04-29        119  Diameter_I3   6.31\n",
       "24 2022-03-31         90  Diameter_I5   4.96\n",
       "25 2022-04-18        108  Diameter_I5   5.43\n",
       "26 2022-04-29        119  Diameter_I5   6.06>"
      ]
     },
     "execution_count": 35,
     "metadata": {},
     "output_type": "execute_result"
    }
   ],
   "source": [
    "data.head"
   ]
  },
  {
   "cell_type": "code",
   "execution_count": 36,
   "id": "78711f03-cfd7-43fb-aff6-ae632b06c95f",
   "metadata": {},
   "outputs": [],
   "source": [
    "# Feature engineering\n",
    "merged_data['DayOfYear'] = merged_data['Date'].dt.dayofyear"
   ]
  },
  {
   "cell_type": "code",
   "execution_count": 39,
   "id": "149ef4c1-122f-40ca-9f32-94bf293f1ba1",
   "metadata": {},
   "outputs": [],
   "source": [
    "# Reshape data for ML\n",
    "data_list = []\n",
    "for loc in ['I0', 'I3', 'I5']:\n",
    "    temp_df = merged_data[['Moisture_' + loc, 'Temp_' + loc, 'Diameter_' + loc, 'DayOfYear']].copy()\n",
    "    temp_df.columns = ['Moisture', 'Temperature', 'Diameter', 'DayOfYear']\n",
    "    temp_df['Location'] = loc\n",
    "    data_list.append(temp_df)\n",
    "\n",
    "final_data = pd.concat(data_list, axis=0)"
   ]
  },
  {
   "cell_type": "code",
   "execution_count": 43,
   "id": "250ba877-0473-4878-a9bd-43dfe835a9e9",
   "metadata": {},
   "outputs": [
    {
     "data": {
      "text/html": [
       "<div>\n",
       "<style scoped>\n",
       "    .dataframe tbody tr th:only-of-type {\n",
       "        vertical-align: middle;\n",
       "    }\n",
       "\n",
       "    .dataframe tbody tr th {\n",
       "        vertical-align: top;\n",
       "    }\n",
       "\n",
       "    .dataframe thead th {\n",
       "        text-align: right;\n",
       "    }\n",
       "</style>\n",
       "<table border=\"1\" class=\"dataframe\">\n",
       "  <thead>\n",
       "    <tr style=\"text-align: right;\">\n",
       "      <th></th>\n",
       "      <th>Moisture</th>\n",
       "      <th>Temperature</th>\n",
       "      <th>Diameter</th>\n",
       "      <th>DayOfYear</th>\n",
       "      <th>Location</th>\n",
       "    </tr>\n",
       "  </thead>\n",
       "  <tbody>\n",
       "    <tr>\n",
       "      <th>0</th>\n",
       "      <td>31.10</td>\n",
       "      <td>17.65</td>\n",
       "      <td>5.02</td>\n",
       "      <td>90</td>\n",
       "      <td>I0</td>\n",
       "    </tr>\n",
       "    <tr>\n",
       "      <th>1</th>\n",
       "      <td>32.65</td>\n",
       "      <td>16.71</td>\n",
       "      <td>5.80</td>\n",
       "      <td>108</td>\n",
       "      <td>I0</td>\n",
       "    </tr>\n",
       "    <tr>\n",
       "      <th>2</th>\n",
       "      <td>29.70</td>\n",
       "      <td>16.91</td>\n",
       "      <td>6.66</td>\n",
       "      <td>119</td>\n",
       "      <td>I0</td>\n",
       "    </tr>\n",
       "    <tr>\n",
       "      <th>0</th>\n",
       "      <td>31.23</td>\n",
       "      <td>5.73</td>\n",
       "      <td>4.93</td>\n",
       "      <td>90</td>\n",
       "      <td>I3</td>\n",
       "    </tr>\n",
       "    <tr>\n",
       "      <th>1</th>\n",
       "      <td>31.27</td>\n",
       "      <td>18.12</td>\n",
       "      <td>5.56</td>\n",
       "      <td>108</td>\n",
       "      <td>I3</td>\n",
       "    </tr>\n",
       "    <tr>\n",
       "      <th>2</th>\n",
       "      <td>31.20</td>\n",
       "      <td>1.98</td>\n",
       "      <td>6.31</td>\n",
       "      <td>119</td>\n",
       "      <td>I3</td>\n",
       "    </tr>\n",
       "    <tr>\n",
       "      <th>0</th>\n",
       "      <td>32.10</td>\n",
       "      <td>7.03</td>\n",
       "      <td>4.96</td>\n",
       "      <td>90</td>\n",
       "      <td>I5</td>\n",
       "    </tr>\n",
       "    <tr>\n",
       "      <th>1</th>\n",
       "      <td>31.53</td>\n",
       "      <td>6.53</td>\n",
       "      <td>5.43</td>\n",
       "      <td>108</td>\n",
       "      <td>I5</td>\n",
       "    </tr>\n",
       "    <tr>\n",
       "      <th>2</th>\n",
       "      <td>31.03</td>\n",
       "      <td>6.26</td>\n",
       "      <td>6.06</td>\n",
       "      <td>119</td>\n",
       "      <td>I5</td>\n",
       "    </tr>\n",
       "  </tbody>\n",
       "</table>\n",
       "</div>"
      ],
      "text/plain": [
       "   Moisture  Temperature  Diameter  DayOfYear Location\n",
       "0     31.10        17.65      5.02         90       I0\n",
       "1     32.65        16.71      5.80        108       I0\n",
       "2     29.70        16.91      6.66        119       I0\n",
       "0     31.23         5.73      4.93         90       I3\n",
       "1     31.27        18.12      5.56        108       I3\n",
       "2     31.20         1.98      6.31        119       I3\n",
       "0     32.10         7.03      4.96         90       I5\n",
       "1     31.53         6.53      5.43        108       I5\n",
       "2     31.03         6.26      6.06        119       I5"
      ]
     },
     "execution_count": 43,
     "metadata": {},
     "output_type": "execute_result"
    }
   ],
   "source": [
    "final_data"
   ]
  },
  {
   "cell_type": "code",
   "execution_count": 44,
   "id": "46c6dfd2-e84e-4df4-af7c-08d460fd28ed",
   "metadata": {},
   "outputs": [],
   "source": [
    "# Separate features and target\n",
    "X = final_data[['Moisture', 'Temperature', 'DayOfYear', 'Location']]\n",
    "y = final_data['Diameter']\n"
   ]
  },
  {
   "cell_type": "code",
   "execution_count": 45,
   "id": "69c84c85-2cbe-4719-818c-49211518844f",
   "metadata": {},
   "outputs": [],
   "source": [
    "# Encode categorical data\n",
    "X = pd.get_dummies(X, columns=['Location'], drop_first=True)"
   ]
  },
  {
   "cell_type": "code",
   "execution_count": 46,
   "id": "6f91cc08-9a56-4a60-a316-5422431a811b",
   "metadata": {},
   "outputs": [],
   "source": [
    "# Train-test split\n",
    "X_train, X_test, y_train, y_test = train_test_split(X, y, test_size=0.2, random_state=42)"
   ]
  },
  {
   "cell_type": "code",
   "execution_count": 47,
   "id": "5631a5c4-64f8-4eb0-a2cb-abdb29ef1b9a",
   "metadata": {},
   "outputs": [],
   "source": [
    "# Scale the features\n",
    "scaler = StandardScaler()\n",
    "X_train_scaled = scaler.fit_transform(X_train)\n",
    "X_test_scaled = scaler.transform(X_test)"
   ]
  },
  {
   "cell_type": "code",
   "execution_count": 48,
   "id": "dbf2859d-55bf-4301-9a9b-81e1ba7497f7",
   "metadata": {},
   "outputs": [],
   "source": [
    "# Define models to evaluate\n",
    "models = {\n",
    "    \"Linear Regression\": LinearRegression(),\n",
    "    \"Random Forest\": RandomForestRegressor(n_estimators=100, random_state=42),\n",
    "    \"Gradient Boosting\": GradientBoostingRegressor(n_estimators=100, random_state=42)\n",
    "}"
   ]
  },
  {
   "cell_type": "code",
   "execution_count": 49,
   "id": "8f7f3bd3-6e4c-477b-8bd5-5d464cc48294",
   "metadata": {},
   "outputs": [
    {
     "name": "stdout",
     "output_type": "stream",
     "text": [
      "Model: Linear Regression\n",
      "  Mean Absolute Error (MAE): 0.1454503580552564\n",
      "  Mean Squared Error (MSE): 0.029529467868597996\n",
      "  R-Squared (R2): 0.13719597169910946\n",
      "\n",
      "Model: Random Forest\n",
      "  Mean Absolute Error (MAE): 0.17194999999999938\n",
      "  Mean Squared Error (MSE): 0.032370505000000126\n",
      "  R-Squared (R2): 0.05418539079619844\n",
      "\n",
      "Model: Gradient Boosting\n",
      "  Mean Absolute Error (MAE): 0.4204869618816631\n",
      "  Mean Squared Error (MSE): 0.20743533765132374\n",
      "  R-Squared (R2): -5.060930245473298\n",
      "\n"
     ]
    }
   ],
   "source": [
    "# Train and evaluate models\n",
    "results = []\n",
    "for model_name, model in models.items():\n",
    "    # Train the model\n",
    "    model.fit(X_train_scaled, y_train)\n",
    "    \n",
    "    # Predict\n",
    "    y_pred = model.predict(X_test_scaled)\n",
    "    \n",
    "    # Evaluate\n",
    "    mae = mean_absolute_error(y_test, y_pred)\n",
    "    mse = mean_squared_error(y_test, y_pred)\n",
    "    r2 = r2_score(y_test, y_pred)\n",
    "    \n",
    "    results.append([model_name, mae, mse, r2])\n",
    "\n",
    "    print(f\"Model: {model_name}\")\n",
    "    print(f\"  Mean Absolute Error (MAE): {mae}\")\n",
    "    print(f\"  Mean Squared Error (MSE): {mse}\")\n",
    "    print(f\"  R-Squared (R2): {r2}\")\n",
    "    print()\n"
   ]
  },
  {
   "cell_type": "code",
   "execution_count": 50,
   "id": "f0d3945d-35dc-4c79-8a11-bf15dd40e267",
   "metadata": {},
   "outputs": [],
   "source": [
    "# Save results to CSV\n",
    "results_df = pd.DataFrame(results, columns=['Model', 'MAE', 'MSE', 'R2'])\n",
    "results_df.to_csv('model_evaluation_results.csv', index=False)"
   ]
  },
  {
   "cell_type": "code",
   "execution_count": 51,
   "id": "578a6071-c36c-4a7f-a28d-968b7cc2263a",
   "metadata": {
    "scrolled": true
   },
   "outputs": [
    {
     "name": "stdout",
     "output_type": "stream",
     "text": [
      "The best model is: Linear Regression\n"
     ]
    }
   ],
   "source": [
    "# Select the best model (based on R²)\n",
    "best_model_name = results_df.sort_values(by='R2', ascending=False).iloc[0]['Model']\n",
    "best_model = models[best_model_name]\n",
    "print(f\"The best model is: {best_model_name}\")"
   ]
  },
  {
   "cell_type": "code",
   "execution_count": 52,
   "id": "9927a667-9bf7-4939-a3c3-c41c6e02f0e3",
   "metadata": {},
   "outputs": [],
   "source": [
    "# Predict using the best model for sample data\n",
    "sample_data = pd.DataFrame({\n",
    "    'Moisture': [16.0, 15.8],\n",
    "    'Temperature': [31.5, 32.1],\n",
    "    'DayOfYear': [90, 91],\n",
    "    'Location_I3': [0, 1],\n",
    "    'Location_I5': [1, 0]\n",
    "})\n"
   ]
  },
  {
   "cell_type": "code",
   "execution_count": 53,
   "id": "34a82fc8-4160-4128-a373-1c600f1001c8",
   "metadata": {},
   "outputs": [],
   "source": [
    "# Scale the sample data\n",
    "sample_scaled = scaler.transform(sample_data)"
   ]
  },
  {
   "cell_type": "code",
   "execution_count": 54,
   "id": "fb6ff8e3-ea17-42ce-a18a-5bb24530ced9",
   "metadata": {},
   "outputs": [
    {
     "data": {
      "text/plain": [
       "array([[-22.97390328,   3.3424987 ,  -1.11274775,  -0.8660254 ,\n",
       "          1.58113883],\n",
       "       [-23.27839504,   3.43811574,  -1.03856456,   1.15470054,\n",
       "         -0.63245553]])"
      ]
     },
     "execution_count": 54,
     "metadata": {},
     "output_type": "execute_result"
    }
   ],
   "source": [
    "sample_scaled"
   ]
  },
  {
   "cell_type": "code",
   "execution_count": 55,
   "id": "6742affc-7b69-4017-aa1a-368e11f45f37",
   "metadata": {},
   "outputs": [],
   "source": [
    "# Predict\n",
    "sample_predictions = best_model.predict(sample_scaled)\n",
    "sample_data['Predicted_Diameter'] = sample_predictions"
   ]
  },
  {
   "cell_type": "code",
   "execution_count": 56,
   "id": "5d255673-ad1c-494c-a4c5-18b9f836566b",
   "metadata": {},
   "outputs": [
    {
     "name": "stdout",
     "output_type": "stream",
     "text": [
      "Sample predictions saved to 'sample_predictions.csv'.\n"
     ]
    }
   ],
   "source": [
    "# Save sample predictions to CSV\n",
    "sample_data.to_csv('sample_predictions.csv', index=False)\n",
    "print(\"Sample predictions saved to 'sample_predictions.csv'.\")"
   ]
  },
  {
   "cell_type": "code",
   "execution_count": 60,
   "id": "43cad6e9-6b08-4a0c-88cc-52275591f81c",
   "metadata": {},
   "outputs": [
    {
     "name": "stdout",
     "output_type": "stream",
     "text": [
      "Model Accuracy: 97.35%\n",
      "Accuracy percentage saved to 'accuracy_percentage_results.csv'.\n"
     ]
    }
   ],
   "source": [
    "\n",
    "\n",
    "# Calculate accuracy as a percentage\n",
    "def calculate_accuracy(y_true, y_pred):\n",
    "    # Mean Absolute Percentage Error (MAPE)\n",
    "    mape = np.mean(np.abs((y_true - y_pred) / y_true)) * 100\n",
    "    accuracy = 100 - mape\n",
    "    return accuracy\n",
    "\n",
    "\n",
    "# Predicting with the test data\n",
    "y_test_pred = best_model.predict(X_test_scaled)\n",
    "\n",
    "# Calculate accuracy in percentage\n",
    "accuracy_percentage = calculate_accuracy(y_test, y_test_pred)\n",
    "\n",
    "# Print the accuracy\n",
    "print(f\"Model Accuracy: {accuracy_percentage:.2f}%\")\n",
    "\n",
    "# Save the accuracy result to a CSV file\n",
    "accuracy_results = pd.DataFrame({\n",
    "    \"Metric\": [\"Accuracy (%)\"],\n",
    "    \"Value\": [accuracy_percentage]\n",
    "})\n",
    "accuracy_results.to_csv('accuracy_percentage_results.csv', index=False)\n",
    "print(\"Accuracy percentage saved to 'accuracy_percentage_results.csv'.\")\n"
   ]
  },
  {
   "cell_type": "code",
   "execution_count": null,
   "id": "2b209e4c-d583-476e-8070-eca5f4afd9cc",
   "metadata": {},
   "outputs": [],
   "source": []
  }
 ],
 "metadata": {
  "kernelspec": {
   "display_name": "Python 3 (ipykernel)",
   "language": "python",
   "name": "python3"
  },
  "language_info": {
   "codemirror_mode": {
    "name": "ipython",
    "version": 3
   },
   "file_extension": ".py",
   "mimetype": "text/x-python",
   "name": "python",
   "nbconvert_exporter": "python",
   "pygments_lexer": "ipython3",
   "version": "3.12.2"
  }
 },
 "nbformat": 4,
 "nbformat_minor": 5
}
