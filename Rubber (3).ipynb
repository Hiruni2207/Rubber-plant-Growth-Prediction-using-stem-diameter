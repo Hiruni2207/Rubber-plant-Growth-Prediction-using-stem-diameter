{
 "cells": [
  {
   "cell_type": "code",
   "execution_count": 2,
   "id": "b4472098-7643-41af-bbd1-854112bb2816",
   "metadata": {
    "id": "b4472098-7643-41af-bbd1-854112bb2816"
   },
   "outputs": [],
   "source": [
    "import pandas as pd\n",
    "import numpy as np\n",
    "from sklearn.model_selection import train_test_split\n",
    "from sklearn.ensemble import RandomForestRegressor, GradientBoostingRegressor\n",
    "from sklearn.linear_model import LinearRegression\n",
    "from sklearn.metrics import mean_absolute_error, mean_squared_error, r2_score\n",
    "from sklearn.preprocessing import StandardScaler, MinMaxScaler\n",
    "import matplotlib.pyplot as plt\n",
    "import csv"
   ]
  },
  {
   "cell_type": "code",
   "execution_count": 3,
   "id": "b6ad02e3-36f2-4ddd-851d-28d71269c8a8",
   "metadata": {
    "colab": {
     "base_uri": "https://localhost:8080/"
    },
    "id": "b6ad02e3-36f2-4ddd-851d-28d71269c8a8",
    "outputId": "bb8b09d9-49dc-465e-8420-86a0da134d63"
   },
   "outputs": [
    {
     "name": "stderr",
     "output_type": "stream",
     "text": [
      "C:\\Users\\supereme\\AppData\\Local\\Temp\\ipykernel_11296\\4005889284.py:3: UserWarning: Parsing dates in %d/%m/%Y format when dayfirst=False (the default) was specified. Pass `dayfirst=True` or specify a format to silence this warning.\n",
      "  diameter_data = pd.read_csv('diameter.csv', parse_dates=['Date'])\n"
     ]
    }
   ],
   "source": [
    "moisture_data = pd.read_csv('moisture.csv', parse_dates=['Date'])\n",
    "temperature_data = pd.read_csv('temparature.csv', parse_dates=['Date'])\n",
    "diameter_data = pd.read_csv('diameter.csv', parse_dates=['Date'])"
   ]
  },
  {
   "cell_type": "code",
   "execution_count": 4,
   "id": "hoLWm4SYF3-B",
   "metadata": {
    "colab": {
     "base_uri": "https://localhost:8080/",
     "height": 424
    },
    "id": "hoLWm4SYF3-B",
    "outputId": "24b028d1-9dcb-425f-e4dc-c0e13a796cfc"
   },
   "outputs": [
    {
     "data": {
      "text/html": [
       "<div>\n",
       "<style scoped>\n",
       "    .dataframe tbody tr th:only-of-type {\n",
       "        vertical-align: middle;\n",
       "    }\n",
       "\n",
       "    .dataframe tbody tr th {\n",
       "        vertical-align: top;\n",
       "    }\n",
       "\n",
       "    .dataframe thead th {\n",
       "        text-align: right;\n",
       "    }\n",
       "</style>\n",
       "<table border=\"1\" class=\"dataframe\">\n",
       "  <thead>\n",
       "    <tr style=\"text-align: right;\">\n",
       "      <th></th>\n",
       "      <th>Date</th>\n",
       "      <th>I0</th>\n",
       "      <th>I3</th>\n",
       "      <th>I5</th>\n",
       "    </tr>\n",
       "  </thead>\n",
       "  <tbody>\n",
       "    <tr>\n",
       "      <th>0</th>\n",
       "      <td>2022-03-29</td>\n",
       "      <td>16.36</td>\n",
       "      <td>16.45</td>\n",
       "      <td>15.79</td>\n",
       "    </tr>\n",
       "    <tr>\n",
       "      <th>1</th>\n",
       "      <td>2022-03-30</td>\n",
       "      <td>16.05</td>\n",
       "      <td>9.14</td>\n",
       "      <td>11.53</td>\n",
       "    </tr>\n",
       "    <tr>\n",
       "      <th>2</th>\n",
       "      <td>2022-03-31</td>\n",
       "      <td>17.65</td>\n",
       "      <td>5.73</td>\n",
       "      <td>7.03</td>\n",
       "    </tr>\n",
       "    <tr>\n",
       "      <th>3</th>\n",
       "      <td>2022-04-01</td>\n",
       "      <td>17.68</td>\n",
       "      <td>2.68</td>\n",
       "      <td>4.83</td>\n",
       "    </tr>\n",
       "    <tr>\n",
       "      <th>4</th>\n",
       "      <td>2022-04-02</td>\n",
       "      <td>16.09</td>\n",
       "      <td>17.96</td>\n",
       "      <td>3.32</td>\n",
       "    </tr>\n",
       "    <tr>\n",
       "      <th>...</th>\n",
       "      <td>...</td>\n",
       "      <td>...</td>\n",
       "      <td>...</td>\n",
       "      <td>...</td>\n",
       "    </tr>\n",
       "    <tr>\n",
       "      <th>335</th>\n",
       "      <td>NaT</td>\n",
       "      <td>NaN</td>\n",
       "      <td>NaN</td>\n",
       "      <td>NaN</td>\n",
       "    </tr>\n",
       "    <tr>\n",
       "      <th>336</th>\n",
       "      <td>NaT</td>\n",
       "      <td>NaN</td>\n",
       "      <td>NaN</td>\n",
       "      <td>NaN</td>\n",
       "    </tr>\n",
       "    <tr>\n",
       "      <th>337</th>\n",
       "      <td>NaT</td>\n",
       "      <td>NaN</td>\n",
       "      <td>NaN</td>\n",
       "      <td>NaN</td>\n",
       "    </tr>\n",
       "    <tr>\n",
       "      <th>338</th>\n",
       "      <td>NaT</td>\n",
       "      <td>NaN</td>\n",
       "      <td>NaN</td>\n",
       "      <td>NaN</td>\n",
       "    </tr>\n",
       "    <tr>\n",
       "      <th>339</th>\n",
       "      <td>NaT</td>\n",
       "      <td>NaN</td>\n",
       "      <td>NaN</td>\n",
       "      <td>NaN</td>\n",
       "    </tr>\n",
       "  </tbody>\n",
       "</table>\n",
       "<p>340 rows × 4 columns</p>\n",
       "</div>"
      ],
      "text/plain": [
       "          Date     I0     I3     I5\n",
       "0   2022-03-29  16.36  16.45  15.79\n",
       "1   2022-03-30  16.05   9.14  11.53\n",
       "2   2022-03-31  17.65   5.73   7.03\n",
       "3   2022-04-01  17.68   2.68   4.83\n",
       "4   2022-04-02  16.09  17.96   3.32\n",
       "..         ...    ...    ...    ...\n",
       "335        NaT    NaN    NaN    NaN\n",
       "336        NaT    NaN    NaN    NaN\n",
       "337        NaT    NaN    NaN    NaN\n",
       "338        NaT    NaN    NaN    NaN\n",
       "339        NaT    NaN    NaN    NaN\n",
       "\n",
       "[340 rows x 4 columns]"
      ]
     },
     "execution_count": 4,
     "metadata": {},
     "output_type": "execute_result"
    }
   ],
   "source": [
    "moisture_data"
   ]
  },
  {
   "cell_type": "code",
   "execution_count": 5,
   "id": "JADEY1RMKwBX",
   "metadata": {
    "colab": {
     "base_uri": "https://localhost:8080/",
     "height": 210
    },
    "id": "JADEY1RMKwBX",
    "outputId": "3d40b641-da87-4060-8287-c715e98ccb45"
   },
   "outputs": [
    {
     "data": {
      "text/plain": [
       "Date    266\n",
       "I0      266\n",
       "I3      266\n",
       "I5      266\n",
       "dtype: int64"
      ]
     },
     "execution_count": 5,
     "metadata": {},
     "output_type": "execute_result"
    }
   ],
   "source": [
    "moisture_data.isnull().sum()"
   ]
  },
  {
   "cell_type": "code",
   "execution_count": 6,
   "id": "FEZ53RA0L38Y",
   "metadata": {
    "colab": {
     "base_uri": "https://localhost:8080/",
     "height": 424
    },
    "id": "FEZ53RA0L38Y",
    "outputId": "eacba082-f761-45f4-c08e-973acba8bedb"
   },
   "outputs": [
    {
     "data": {
      "text/html": [
       "<div>\n",
       "<style scoped>\n",
       "    .dataframe tbody tr th:only-of-type {\n",
       "        vertical-align: middle;\n",
       "    }\n",
       "\n",
       "    .dataframe tbody tr th {\n",
       "        vertical-align: top;\n",
       "    }\n",
       "\n",
       "    .dataframe thead th {\n",
       "        text-align: right;\n",
       "    }\n",
       "</style>\n",
       "<table border=\"1\" class=\"dataframe\">\n",
       "  <thead>\n",
       "    <tr style=\"text-align: right;\">\n",
       "      <th></th>\n",
       "      <th>Date</th>\n",
       "      <th>I0</th>\n",
       "      <th>I3</th>\n",
       "      <th>I5</th>\n",
       "    </tr>\n",
       "  </thead>\n",
       "  <tbody>\n",
       "    <tr>\n",
       "      <th>0</th>\n",
       "      <td>2022-03-29</td>\n",
       "      <td>16.36</td>\n",
       "      <td>16.45</td>\n",
       "      <td>15.79</td>\n",
       "    </tr>\n",
       "    <tr>\n",
       "      <th>1</th>\n",
       "      <td>2022-03-30</td>\n",
       "      <td>16.05</td>\n",
       "      <td>9.14</td>\n",
       "      <td>11.53</td>\n",
       "    </tr>\n",
       "    <tr>\n",
       "      <th>2</th>\n",
       "      <td>2022-03-31</td>\n",
       "      <td>17.65</td>\n",
       "      <td>5.73</td>\n",
       "      <td>7.03</td>\n",
       "    </tr>\n",
       "    <tr>\n",
       "      <th>3</th>\n",
       "      <td>2022-04-01</td>\n",
       "      <td>17.68</td>\n",
       "      <td>2.68</td>\n",
       "      <td>4.83</td>\n",
       "    </tr>\n",
       "    <tr>\n",
       "      <th>4</th>\n",
       "      <td>2022-04-02</td>\n",
       "      <td>16.09</td>\n",
       "      <td>17.96</td>\n",
       "      <td>3.32</td>\n",
       "    </tr>\n",
       "    <tr>\n",
       "      <th>...</th>\n",
       "      <td>...</td>\n",
       "      <td>...</td>\n",
       "      <td>...</td>\n",
       "      <td>...</td>\n",
       "    </tr>\n",
       "    <tr>\n",
       "      <th>69</th>\n",
       "      <td>2022-06-06</td>\n",
       "      <td>16.09</td>\n",
       "      <td>8.88</td>\n",
       "      <td>1.68</td>\n",
       "    </tr>\n",
       "    <tr>\n",
       "      <th>70</th>\n",
       "      <td>2022-06-07</td>\n",
       "      <td>14.52</td>\n",
       "      <td>4.92</td>\n",
       "      <td>17.23</td>\n",
       "    </tr>\n",
       "    <tr>\n",
       "      <th>71</th>\n",
       "      <td>2022-06-08</td>\n",
       "      <td>14.22</td>\n",
       "      <td>2.18</td>\n",
       "      <td>9.70</td>\n",
       "    </tr>\n",
       "    <tr>\n",
       "      <th>72</th>\n",
       "      <td>2022-06-09</td>\n",
       "      <td>16.40</td>\n",
       "      <td>17.02</td>\n",
       "      <td>6.80</td>\n",
       "    </tr>\n",
       "    <tr>\n",
       "      <th>73</th>\n",
       "      <td>2022-06-10</td>\n",
       "      <td>16.58</td>\n",
       "      <td>9.25</td>\n",
       "      <td>4.47</td>\n",
       "    </tr>\n",
       "  </tbody>\n",
       "</table>\n",
       "<p>74 rows × 4 columns</p>\n",
       "</div>"
      ],
      "text/plain": [
       "         Date     I0     I3     I5\n",
       "0  2022-03-29  16.36  16.45  15.79\n",
       "1  2022-03-30  16.05   9.14  11.53\n",
       "2  2022-03-31  17.65   5.73   7.03\n",
       "3  2022-04-01  17.68   2.68   4.83\n",
       "4  2022-04-02  16.09  17.96   3.32\n",
       "..        ...    ...    ...    ...\n",
       "69 2022-06-06  16.09   8.88   1.68\n",
       "70 2022-06-07  14.52   4.92  17.23\n",
       "71 2022-06-08  14.22   2.18   9.70\n",
       "72 2022-06-09  16.40  17.02   6.80\n",
       "73 2022-06-10  16.58   9.25   4.47\n",
       "\n",
       "[74 rows x 4 columns]"
      ]
     },
     "execution_count": 6,
     "metadata": {},
     "output_type": "execute_result"
    }
   ],
   "source": [
    "moisture_data.dropna()"
   ]
  },
  {
   "cell_type": "code",
   "execution_count": 7,
   "id": "HYCznd_qMBbG",
   "metadata": {
    "colab": {
     "base_uri": "https://localhost:8080/",
     "height": 300
    },
    "id": "HYCznd_qMBbG",
    "outputId": "a0c72eaa-1240-4d0f-ca2d-e34fc4a309bf"
   },
   "outputs": [
    {
     "data": {
      "text/html": [
       "<div>\n",
       "<style scoped>\n",
       "    .dataframe tbody tr th:only-of-type {\n",
       "        vertical-align: middle;\n",
       "    }\n",
       "\n",
       "    .dataframe tbody tr th {\n",
       "        vertical-align: top;\n",
       "    }\n",
       "\n",
       "    .dataframe thead th {\n",
       "        text-align: right;\n",
       "    }\n",
       "</style>\n",
       "<table border=\"1\" class=\"dataframe\">\n",
       "  <thead>\n",
       "    <tr style=\"text-align: right;\">\n",
       "      <th></th>\n",
       "      <th>Date</th>\n",
       "      <th>I0</th>\n",
       "      <th>I3</th>\n",
       "      <th>I5</th>\n",
       "    </tr>\n",
       "  </thead>\n",
       "  <tbody>\n",
       "    <tr>\n",
       "      <th>count</th>\n",
       "      <td>74</td>\n",
       "      <td>74.000000</td>\n",
       "      <td>74.000000</td>\n",
       "      <td>74.000000</td>\n",
       "    </tr>\n",
       "    <tr>\n",
       "      <th>mean</th>\n",
       "      <td>2022-05-04 12:00:00</td>\n",
       "      <td>16.379459</td>\n",
       "      <td>8.334459</td>\n",
       "      <td>7.692703</td>\n",
       "    </tr>\n",
       "    <tr>\n",
       "      <th>min</th>\n",
       "      <td>2022-03-29 00:00:00</td>\n",
       "      <td>14.220000</td>\n",
       "      <td>1.650000</td>\n",
       "      <td>1.100000</td>\n",
       "    </tr>\n",
       "    <tr>\n",
       "      <th>25%</th>\n",
       "      <td>2022-04-16 06:00:00</td>\n",
       "      <td>16.000000</td>\n",
       "      <td>4.430000</td>\n",
       "      <td>3.410000</td>\n",
       "    </tr>\n",
       "    <tr>\n",
       "      <th>50%</th>\n",
       "      <td>2022-05-04 12:00:00</td>\n",
       "      <td>16.350000</td>\n",
       "      <td>7.500000</td>\n",
       "      <td>6.530000</td>\n",
       "    </tr>\n",
       "    <tr>\n",
       "      <th>75%</th>\n",
       "      <td>2022-05-22 18:00:00</td>\n",
       "      <td>16.750000</td>\n",
       "      <td>13.540000</td>\n",
       "      <td>10.502500</td>\n",
       "    </tr>\n",
       "    <tr>\n",
       "      <th>max</th>\n",
       "      <td>2022-06-10 00:00:00</td>\n",
       "      <td>19.250000</td>\n",
       "      <td>18.550000</td>\n",
       "      <td>19.160000</td>\n",
       "    </tr>\n",
       "    <tr>\n",
       "      <th>std</th>\n",
       "      <td>NaN</td>\n",
       "      <td>0.924974</td>\n",
       "      <td>5.645475</td>\n",
       "      <td>5.493382</td>\n",
       "    </tr>\n",
       "  </tbody>\n",
       "</table>\n",
       "</div>"
      ],
      "text/plain": [
       "                      Date         I0         I3         I5\n",
       "count                   74  74.000000  74.000000  74.000000\n",
       "mean   2022-05-04 12:00:00  16.379459   8.334459   7.692703\n",
       "min    2022-03-29 00:00:00  14.220000   1.650000   1.100000\n",
       "25%    2022-04-16 06:00:00  16.000000   4.430000   3.410000\n",
       "50%    2022-05-04 12:00:00  16.350000   7.500000   6.530000\n",
       "75%    2022-05-22 18:00:00  16.750000  13.540000  10.502500\n",
       "max    2022-06-10 00:00:00  19.250000  18.550000  19.160000\n",
       "std                    NaN   0.924974   5.645475   5.493382"
      ]
     },
     "execution_count": 7,
     "metadata": {},
     "output_type": "execute_result"
    }
   ],
   "source": [
    "moisture_data.describe()"
   ]
  },
  {
   "cell_type": "code",
   "execution_count": 8,
   "id": "gh6sufkfKitV",
   "metadata": {
    "colab": {
     "base_uri": "https://localhost:8080/",
     "height": 206
    },
    "id": "gh6sufkfKitV",
    "outputId": "18e0dcc2-530c-4075-f7ff-b2465d7b3fdf"
   },
   "outputs": [
    {
     "data": {
      "text/html": [
       "<div>\n",
       "<style scoped>\n",
       "    .dataframe tbody tr th:only-of-type {\n",
       "        vertical-align: middle;\n",
       "    }\n",
       "\n",
       "    .dataframe tbody tr th {\n",
       "        vertical-align: top;\n",
       "    }\n",
       "\n",
       "    .dataframe thead th {\n",
       "        text-align: right;\n",
       "    }\n",
       "</style>\n",
       "<table border=\"1\" class=\"dataframe\">\n",
       "  <thead>\n",
       "    <tr style=\"text-align: right;\">\n",
       "      <th></th>\n",
       "      <th>Date</th>\n",
       "      <th>I0</th>\n",
       "      <th>I3</th>\n",
       "      <th>I5</th>\n",
       "    </tr>\n",
       "  </thead>\n",
       "  <tbody>\n",
       "    <tr>\n",
       "      <th>0</th>\n",
       "      <td>2022-03-29</td>\n",
       "      <td>31.55</td>\n",
       "      <td>30.60</td>\n",
       "      <td>31.87</td>\n",
       "    </tr>\n",
       "    <tr>\n",
       "      <th>1</th>\n",
       "      <td>2022-03-30</td>\n",
       "      <td>31.05</td>\n",
       "      <td>31.03</td>\n",
       "      <td>32.27</td>\n",
       "    </tr>\n",
       "    <tr>\n",
       "      <th>2</th>\n",
       "      <td>2022-03-31</td>\n",
       "      <td>31.10</td>\n",
       "      <td>31.23</td>\n",
       "      <td>32.10</td>\n",
       "    </tr>\n",
       "    <tr>\n",
       "      <th>3</th>\n",
       "      <td>2022-04-01</td>\n",
       "      <td>31.70</td>\n",
       "      <td>31.03</td>\n",
       "      <td>32.23</td>\n",
       "    </tr>\n",
       "    <tr>\n",
       "      <th>4</th>\n",
       "      <td>2022-04-02</td>\n",
       "      <td>30.45</td>\n",
       "      <td>30.53</td>\n",
       "      <td>32.67</td>\n",
       "    </tr>\n",
       "  </tbody>\n",
       "</table>\n",
       "</div>"
      ],
      "text/plain": [
       "        Date     I0     I3     I5\n",
       "0 2022-03-29  31.55  30.60  31.87\n",
       "1 2022-03-30  31.05  31.03  32.27\n",
       "2 2022-03-31  31.10  31.23  32.10\n",
       "3 2022-04-01  31.70  31.03  32.23\n",
       "4 2022-04-02  30.45  30.53  32.67"
      ]
     },
     "execution_count": 8,
     "metadata": {},
     "output_type": "execute_result"
    }
   ],
   "source": [
    "temperature_data.head()"
   ]
  },
  {
   "cell_type": "code",
   "execution_count": 9,
   "id": "caCvy0CfMlT9",
   "metadata": {
    "colab": {
     "base_uri": "https://localhost:8080/",
     "height": 210
    },
    "id": "caCvy0CfMlT9",
    "outputId": "d5e1ddef-ee89-42bb-fec7-f26fa09b33a6"
   },
   "outputs": [
    {
     "data": {
      "text/plain": [
       "Date    0\n",
       "I0      0\n",
       "I3      0\n",
       "I5      0\n",
       "dtype: int64"
      ]
     },
     "execution_count": 9,
     "metadata": {},
     "output_type": "execute_result"
    }
   ],
   "source": [
    "temperature_data.isnull().sum()"
   ]
  },
  {
   "cell_type": "code",
   "execution_count": 10,
   "id": "-559k9CiMlQl",
   "metadata": {
    "colab": {
     "base_uri": "https://localhost:8080/",
     "height": 300
    },
    "id": "-559k9CiMlQl",
    "outputId": "740b53c6-703b-4119-c0ab-e4dc8d3d2268"
   },
   "outputs": [
    {
     "data": {
      "text/html": [
       "<div>\n",
       "<style scoped>\n",
       "    .dataframe tbody tr th:only-of-type {\n",
       "        vertical-align: middle;\n",
       "    }\n",
       "\n",
       "    .dataframe tbody tr th {\n",
       "        vertical-align: top;\n",
       "    }\n",
       "\n",
       "    .dataframe thead th {\n",
       "        text-align: right;\n",
       "    }\n",
       "</style>\n",
       "<table border=\"1\" class=\"dataframe\">\n",
       "  <thead>\n",
       "    <tr style=\"text-align: right;\">\n",
       "      <th></th>\n",
       "      <th>Date</th>\n",
       "      <th>I0</th>\n",
       "      <th>I3</th>\n",
       "      <th>I5</th>\n",
       "    </tr>\n",
       "  </thead>\n",
       "  <tbody>\n",
       "    <tr>\n",
       "      <th>count</th>\n",
       "      <td>74</td>\n",
       "      <td>74.000000</td>\n",
       "      <td>74.000000</td>\n",
       "      <td>74.000000</td>\n",
       "    </tr>\n",
       "    <tr>\n",
       "      <th>mean</th>\n",
       "      <td>2022-05-04 12:00:00</td>\n",
       "      <td>31.468919</td>\n",
       "      <td>31.613919</td>\n",
       "      <td>32.190000</td>\n",
       "    </tr>\n",
       "    <tr>\n",
       "      <th>min</th>\n",
       "      <td>2022-03-29 00:00:00</td>\n",
       "      <td>29.700000</td>\n",
       "      <td>30.470000</td>\n",
       "      <td>31.030000</td>\n",
       "    </tr>\n",
       "    <tr>\n",
       "      <th>25%</th>\n",
       "      <td>2022-04-16 06:00:00</td>\n",
       "      <td>31.100000</td>\n",
       "      <td>31.070000</td>\n",
       "      <td>31.877500</td>\n",
       "    </tr>\n",
       "    <tr>\n",
       "      <th>50%</th>\n",
       "      <td>2022-05-04 12:00:00</td>\n",
       "      <td>31.550000</td>\n",
       "      <td>31.600000</td>\n",
       "      <td>32.170000</td>\n",
       "    </tr>\n",
       "    <tr>\n",
       "      <th>75%</th>\n",
       "      <td>2022-05-22 18:00:00</td>\n",
       "      <td>31.787500</td>\n",
       "      <td>32.070000</td>\n",
       "      <td>32.530000</td>\n",
       "    </tr>\n",
       "    <tr>\n",
       "      <th>max</th>\n",
       "      <td>2022-06-10 00:00:00</td>\n",
       "      <td>32.850000</td>\n",
       "      <td>33.000000</td>\n",
       "      <td>33.170000</td>\n",
       "    </tr>\n",
       "    <tr>\n",
       "      <th>std</th>\n",
       "      <td>NaN</td>\n",
       "      <td>0.647159</td>\n",
       "      <td>0.669244</td>\n",
       "      <td>0.552099</td>\n",
       "    </tr>\n",
       "  </tbody>\n",
       "</table>\n",
       "</div>"
      ],
      "text/plain": [
       "                      Date         I0         I3         I5\n",
       "count                   74  74.000000  74.000000  74.000000\n",
       "mean   2022-05-04 12:00:00  31.468919  31.613919  32.190000\n",
       "min    2022-03-29 00:00:00  29.700000  30.470000  31.030000\n",
       "25%    2022-04-16 06:00:00  31.100000  31.070000  31.877500\n",
       "50%    2022-05-04 12:00:00  31.550000  31.600000  32.170000\n",
       "75%    2022-05-22 18:00:00  31.787500  32.070000  32.530000\n",
       "max    2022-06-10 00:00:00  32.850000  33.000000  33.170000\n",
       "std                    NaN   0.647159   0.669244   0.552099"
      ]
     },
     "execution_count": 10,
     "metadata": {},
     "output_type": "execute_result"
    }
   ],
   "source": [
    "temperature_data.describe()"
   ]
  },
  {
   "cell_type": "code",
   "execution_count": 11,
   "id": "xfQOKdmcKip0",
   "metadata": {
    "colab": {
     "base_uri": "https://localhost:8080/",
     "height": 206
    },
    "id": "xfQOKdmcKip0",
    "outputId": "acddcb46-1ea9-48ec-818e-fee2112cb15f"
   },
   "outputs": [
    {
     "data": {
      "text/html": [
       "<div>\n",
       "<style scoped>\n",
       "    .dataframe tbody tr th:only-of-type {\n",
       "        vertical-align: middle;\n",
       "    }\n",
       "\n",
       "    .dataframe tbody tr th {\n",
       "        vertical-align: top;\n",
       "    }\n",
       "\n",
       "    .dataframe thead th {\n",
       "        text-align: right;\n",
       "    }\n",
       "</style>\n",
       "<table border=\"1\" class=\"dataframe\">\n",
       "  <thead>\n",
       "    <tr style=\"text-align: right;\">\n",
       "      <th></th>\n",
       "      <th>Date</th>\n",
       "      <th>I0</th>\n",
       "      <th>I3</th>\n",
       "      <th>I5</th>\n",
       "    </tr>\n",
       "  </thead>\n",
       "  <tbody>\n",
       "    <tr>\n",
       "      <th>0</th>\n",
       "      <td>2022-03-31</td>\n",
       "      <td>5.02</td>\n",
       "      <td>4.93</td>\n",
       "      <td>4.96</td>\n",
       "    </tr>\n",
       "    <tr>\n",
       "      <th>1</th>\n",
       "      <td>2022-04-18</td>\n",
       "      <td>5.80</td>\n",
       "      <td>5.56</td>\n",
       "      <td>5.43</td>\n",
       "    </tr>\n",
       "    <tr>\n",
       "      <th>2</th>\n",
       "      <td>2022-04-29</td>\n",
       "      <td>6.66</td>\n",
       "      <td>6.31</td>\n",
       "      <td>6.06</td>\n",
       "    </tr>\n",
       "    <tr>\n",
       "      <th>3</th>\n",
       "      <td>2022-05-17</td>\n",
       "      <td>7.44</td>\n",
       "      <td>6.49</td>\n",
       "      <td>6.38</td>\n",
       "    </tr>\n",
       "    <tr>\n",
       "      <th>4</th>\n",
       "      <td>2022-05-30</td>\n",
       "      <td>8.20</td>\n",
       "      <td>6.91</td>\n",
       "      <td>6.61</td>\n",
       "    </tr>\n",
       "  </tbody>\n",
       "</table>\n",
       "</div>"
      ],
      "text/plain": [
       "        Date    I0    I3    I5\n",
       "0 2022-03-31  5.02  4.93  4.96\n",
       "1 2022-04-18  5.80  5.56  5.43\n",
       "2 2022-04-29  6.66  6.31  6.06\n",
       "3 2022-05-17  7.44  6.49  6.38\n",
       "4 2022-05-30  8.20  6.91  6.61"
      ]
     },
     "execution_count": 11,
     "metadata": {},
     "output_type": "execute_result"
    }
   ],
   "source": [
    "\n",
    "diameter_data.head()"
   ]
  },
  {
   "cell_type": "code",
   "execution_count": 12,
   "id": "iWw8XDzAMmtd",
   "metadata": {
    "colab": {
     "base_uri": "https://localhost:8080/",
     "height": 210
    },
    "id": "iWw8XDzAMmtd",
    "outputId": "ed5d0e1c-8f77-4aa4-a8e5-539b9061c3dd"
   },
   "outputs": [
    {
     "data": {
      "text/plain": [
       "Date    0\n",
       "I0      0\n",
       "I3      0\n",
       "I5      0\n",
       "dtype: int64"
      ]
     },
     "execution_count": 12,
     "metadata": {},
     "output_type": "execute_result"
    }
   ],
   "source": [
    "diameter_data.isnull().sum()"
   ]
  },
  {
   "cell_type": "code",
   "execution_count": 13,
   "id": "AILfJguCMmpz",
   "metadata": {
    "colab": {
     "base_uri": "https://localhost:8080/",
     "height": 300
    },
    "id": "AILfJguCMmpz",
    "outputId": "ec65e241-c15b-4db1-8af7-5d15d785ba4e"
   },
   "outputs": [
    {
     "data": {
      "text/html": [
       "<div>\n",
       "<style scoped>\n",
       "    .dataframe tbody tr th:only-of-type {\n",
       "        vertical-align: middle;\n",
       "    }\n",
       "\n",
       "    .dataframe tbody tr th {\n",
       "        vertical-align: top;\n",
       "    }\n",
       "\n",
       "    .dataframe thead th {\n",
       "        text-align: right;\n",
       "    }\n",
       "</style>\n",
       "<table border=\"1\" class=\"dataframe\">\n",
       "  <thead>\n",
       "    <tr style=\"text-align: right;\">\n",
       "      <th></th>\n",
       "      <th>Date</th>\n",
       "      <th>I0</th>\n",
       "      <th>I3</th>\n",
       "      <th>I5</th>\n",
       "    </tr>\n",
       "  </thead>\n",
       "  <tbody>\n",
       "    <tr>\n",
       "      <th>count</th>\n",
       "      <td>6</td>\n",
       "      <td>6.000000</td>\n",
       "      <td>6.000000</td>\n",
       "      <td>6.000000</td>\n",
       "    </tr>\n",
       "    <tr>\n",
       "      <th>mean</th>\n",
       "      <td>2022-05-07 12:00:00</td>\n",
       "      <td>7.025000</td>\n",
       "      <td>6.256667</td>\n",
       "      <td>6.068333</td>\n",
       "    </tr>\n",
       "    <tr>\n",
       "      <th>min</th>\n",
       "      <td>2022-03-31 00:00:00</td>\n",
       "      <td>5.020000</td>\n",
       "      <td>4.930000</td>\n",
       "      <td>4.960000</td>\n",
       "    </tr>\n",
       "    <tr>\n",
       "      <th>25%</th>\n",
       "      <td>2022-04-20 18:00:00</td>\n",
       "      <td>6.015000</td>\n",
       "      <td>5.747500</td>\n",
       "      <td>5.587500</td>\n",
       "    </tr>\n",
       "    <tr>\n",
       "      <th>50%</th>\n",
       "      <td>2022-05-08 00:00:00</td>\n",
       "      <td>7.050000</td>\n",
       "      <td>6.400000</td>\n",
       "      <td>6.220000</td>\n",
       "    </tr>\n",
       "    <tr>\n",
       "      <th>75%</th>\n",
       "      <td>2022-05-26 18:00:00</td>\n",
       "      <td>8.010000</td>\n",
       "      <td>6.805000</td>\n",
       "      <td>6.552500</td>\n",
       "    </tr>\n",
       "    <tr>\n",
       "      <th>max</th>\n",
       "      <td>2022-06-10 00:00:00</td>\n",
       "      <td>9.030000</td>\n",
       "      <td>7.340000</td>\n",
       "      <td>6.970000</td>\n",
       "    </tr>\n",
       "    <tr>\n",
       "      <th>std</th>\n",
       "      <td>NaN</td>\n",
       "      <td>1.498449</td>\n",
       "      <td>0.883531</td>\n",
       "      <td>0.753589</td>\n",
       "    </tr>\n",
       "  </tbody>\n",
       "</table>\n",
       "</div>"
      ],
      "text/plain": [
       "                      Date        I0        I3        I5\n",
       "count                    6  6.000000  6.000000  6.000000\n",
       "mean   2022-05-07 12:00:00  7.025000  6.256667  6.068333\n",
       "min    2022-03-31 00:00:00  5.020000  4.930000  4.960000\n",
       "25%    2022-04-20 18:00:00  6.015000  5.747500  5.587500\n",
       "50%    2022-05-08 00:00:00  7.050000  6.400000  6.220000\n",
       "75%    2022-05-26 18:00:00  8.010000  6.805000  6.552500\n",
       "max    2022-06-10 00:00:00  9.030000  7.340000  6.970000\n",
       "std                    NaN  1.498449  0.883531  0.753589"
      ]
     },
     "execution_count": 13,
     "metadata": {},
     "output_type": "execute_result"
    }
   ],
   "source": [
    "diameter_data.describe()"
   ]
  },
  {
   "cell_type": "code",
   "execution_count": 14,
   "id": "Ed4ZAFoNF3m3",
   "metadata": {
    "colab": {
     "base_uri": "https://localhost:8080/"
    },
    "id": "Ed4ZAFoNF3m3",
    "outputId": "8baed587-49cf-4676-9fe2-b2404e7e0c52"
   },
   "outputs": [
    {
     "data": {
      "text/plain": [
       "Index(['Date', 'I0', 'I3', 'I5'], dtype='object')"
      ]
     },
     "execution_count": 14,
     "metadata": {},
     "output_type": "execute_result"
    }
   ],
   "source": [
    "moisture_data.columns"
   ]
  },
  {
   "cell_type": "code",
   "execution_count": 16,
   "id": "69356dad-dc44-41e2-8f7f-324a9345f95f",
   "metadata": {
    "id": "69356dad-dc44-41e2-8f7f-324a9345f95f"
   },
   "outputs": [],
   "source": [
    "# Merge the datasets\n",
    "moisture_data.columns = ['Date','Moisture_I0', 'Moisture_I3', 'Moisture_I5']\n",
    "temperature_data.columns = ['Date','Temp_I0', 'Temp_I3', 'Temp_I5' ]\n",
    "diameter_data.columns = ['Date', 'Diameter_I0', 'Diameter_I3', 'Diameter_I5']\n",
    "\n",
    "merged_data = pd.merge(moisture_data, temperature_data, on='Date', how='inner')\n",
    "merged_data = pd.merge(merged_data, diameter_data, on='Date', how='inner')"
   ]
  },
  {
   "cell_type": "code",
   "execution_count": 17,
   "id": "542c6c4f-370f-4720-8882-2bc1c3148644",
   "metadata": {
    "colab": {
     "base_uri": "https://localhost:8080/",
     "height": 143
    },
    "id": "542c6c4f-370f-4720-8882-2bc1c3148644",
    "outputId": "ff1ad810-5abf-423e-da84-0f635b4b6d17"
   },
   "outputs": [
    {
     "data": {
      "text/html": [
       "<div>\n",
       "<style scoped>\n",
       "    .dataframe tbody tr th:only-of-type {\n",
       "        vertical-align: middle;\n",
       "    }\n",
       "\n",
       "    .dataframe tbody tr th {\n",
       "        vertical-align: top;\n",
       "    }\n",
       "\n",
       "    .dataframe thead th {\n",
       "        text-align: right;\n",
       "    }\n",
       "</style>\n",
       "<table border=\"1\" class=\"dataframe\">\n",
       "  <thead>\n",
       "    <tr style=\"text-align: right;\">\n",
       "      <th></th>\n",
       "      <th>Date</th>\n",
       "      <th>Moisture_I0</th>\n",
       "      <th>Moisture_I3</th>\n",
       "      <th>Moisture_I5</th>\n",
       "      <th>Temp_I0</th>\n",
       "      <th>Temp_I3</th>\n",
       "      <th>Temp_I5</th>\n",
       "      <th>Diameter_I0</th>\n",
       "      <th>Diameter_I3</th>\n",
       "      <th>Diameter_I5</th>\n",
       "    </tr>\n",
       "  </thead>\n",
       "  <tbody>\n",
       "    <tr>\n",
       "      <th>0</th>\n",
       "      <td>2022-03-31</td>\n",
       "      <td>17.65</td>\n",
       "      <td>5.73</td>\n",
       "      <td>7.03</td>\n",
       "      <td>31.10</td>\n",
       "      <td>31.23</td>\n",
       "      <td>32.10</td>\n",
       "      <td>5.02</td>\n",
       "      <td>4.93</td>\n",
       "      <td>4.96</td>\n",
       "    </tr>\n",
       "    <tr>\n",
       "      <th>1</th>\n",
       "      <td>2022-04-18</td>\n",
       "      <td>16.71</td>\n",
       "      <td>18.12</td>\n",
       "      <td>6.53</td>\n",
       "      <td>32.65</td>\n",
       "      <td>31.27</td>\n",
       "      <td>31.53</td>\n",
       "      <td>5.80</td>\n",
       "      <td>5.56</td>\n",
       "      <td>5.43</td>\n",
       "    </tr>\n",
       "    <tr>\n",
       "      <th>2</th>\n",
       "      <td>2022-04-29</td>\n",
       "      <td>16.91</td>\n",
       "      <td>1.98</td>\n",
       "      <td>6.26</td>\n",
       "      <td>29.70</td>\n",
       "      <td>31.20</td>\n",
       "      <td>31.03</td>\n",
       "      <td>6.66</td>\n",
       "      <td>6.31</td>\n",
       "      <td>6.06</td>\n",
       "    </tr>\n",
       "  </tbody>\n",
       "</table>\n",
       "</div>"
      ],
      "text/plain": [
       "        Date  Moisture_I0  Moisture_I3  Moisture_I5  Temp_I0  Temp_I3  \\\n",
       "0 2022-03-31        17.65         5.73         7.03    31.10    31.23   \n",
       "1 2022-04-18        16.71        18.12         6.53    32.65    31.27   \n",
       "2 2022-04-29        16.91         1.98         6.26    29.70    31.20   \n",
       "\n",
       "   Temp_I5  Diameter_I0  Diameter_I3  Diameter_I5  \n",
       "0    32.10         5.02         4.93         4.96  \n",
       "1    31.53         5.80         5.56         5.43  \n",
       "2    31.03         6.66         6.31         6.06  "
      ]
     },
     "execution_count": 17,
     "metadata": {},
     "output_type": "execute_result"
    }
   ],
   "source": [
    "merged_data.head(3)"
   ]
  },
  {
   "cell_type": "code",
   "execution_count": 18,
   "id": "78711f03-cfd7-43fb-aff6-ae632b06c95f",
   "metadata": {
    "id": "78711f03-cfd7-43fb-aff6-ae632b06c95f"
   },
   "outputs": [],
   "source": [
    "# Feature engineering\n",
    "merged_data['DayOfYear'] = merged_data['Date'].dt.dayofyear"
   ]
  },
  {
   "cell_type": "code",
   "execution_count": 19,
   "id": "oXxQTHARGTOd",
   "metadata": {
    "colab": {
     "base_uri": "https://localhost:8080/"
    },
    "id": "oXxQTHARGTOd",
    "outputId": "11d921f9-52d5-4cc9-9f04-830b789f1943"
   },
   "outputs": [
    {
     "data": {
      "text/plain": [
       "['I0', 'I3', 'I5']"
      ]
     },
     "execution_count": 19,
     "metadata": {},
     "output_type": "execute_result"
    }
   ],
   "source": [
    "['I0','I3','I5']"
   ]
  },
  {
   "cell_type": "code",
   "execution_count": 20,
   "id": "149ef4c1-122f-40ca-9f32-94bf293f1ba1",
   "metadata": {
    "id": "149ef4c1-122f-40ca-9f32-94bf293f1ba1"
   },
   "outputs": [],
   "source": [
    "# Reshape data for ML\n",
    "data_list = []\n",
    "for i in ['I0', 'I3', 'I5']:\n",
    "    merged_df = merged_data[['Moisture_' + i, 'Temp_' + i, 'Diameter_' + i, 'DayOfYear']].copy()\n",
    "    merged_df.columns = ['Moisture', 'Temperature', 'Diameter', 'DayOfYear']\n",
    "    merged_df['IrrigationLevel'] = i\n",
    "    data_list.append(merged_df)\n",
    "\n",
    "final_data = pd.concat(data_list, axis=0)"
   ]
  },
  {
   "cell_type": "code",
   "execution_count": 21,
   "id": "250ba877-0473-4878-a9bd-43dfe835a9e9",
   "metadata": {
    "colab": {
     "base_uri": "https://localhost:8080/",
     "height": 206
    },
    "id": "250ba877-0473-4878-a9bd-43dfe835a9e9",
    "outputId": "dd8951b3-3e46-496a-f86f-3e894f0052b5"
   },
   "outputs": [
    {
     "data": {
      "text/html": [
       "<div>\n",
       "<style scoped>\n",
       "    .dataframe tbody tr th:only-of-type {\n",
       "        vertical-align: middle;\n",
       "    }\n",
       "\n",
       "    .dataframe tbody tr th {\n",
       "        vertical-align: top;\n",
       "    }\n",
       "\n",
       "    .dataframe thead th {\n",
       "        text-align: right;\n",
       "    }\n",
       "</style>\n",
       "<table border=\"1\" class=\"dataframe\">\n",
       "  <thead>\n",
       "    <tr style=\"text-align: right;\">\n",
       "      <th></th>\n",
       "      <th>Moisture</th>\n",
       "      <th>Temperature</th>\n",
       "      <th>Diameter</th>\n",
       "      <th>DayOfYear</th>\n",
       "      <th>IrrigationLevel</th>\n",
       "    </tr>\n",
       "  </thead>\n",
       "  <tbody>\n",
       "    <tr>\n",
       "      <th>0</th>\n",
       "      <td>17.65</td>\n",
       "      <td>31.10</td>\n",
       "      <td>5.02</td>\n",
       "      <td>90</td>\n",
       "      <td>I0</td>\n",
       "    </tr>\n",
       "    <tr>\n",
       "      <th>1</th>\n",
       "      <td>16.71</td>\n",
       "      <td>32.65</td>\n",
       "      <td>5.80</td>\n",
       "      <td>108</td>\n",
       "      <td>I0</td>\n",
       "    </tr>\n",
       "    <tr>\n",
       "      <th>2</th>\n",
       "      <td>16.91</td>\n",
       "      <td>29.70</td>\n",
       "      <td>6.66</td>\n",
       "      <td>119</td>\n",
       "      <td>I0</td>\n",
       "    </tr>\n",
       "    <tr>\n",
       "      <th>3</th>\n",
       "      <td>15.64</td>\n",
       "      <td>32.50</td>\n",
       "      <td>7.44</td>\n",
       "      <td>137</td>\n",
       "      <td>I0</td>\n",
       "    </tr>\n",
       "    <tr>\n",
       "      <th>4</th>\n",
       "      <td>17.36</td>\n",
       "      <td>32.10</td>\n",
       "      <td>8.20</td>\n",
       "      <td>150</td>\n",
       "      <td>I0</td>\n",
       "    </tr>\n",
       "  </tbody>\n",
       "</table>\n",
       "</div>"
      ],
      "text/plain": [
       "   Moisture  Temperature  Diameter  DayOfYear IrrigationLevel\n",
       "0     17.65        31.10      5.02         90              I0\n",
       "1     16.71        32.65      5.80        108              I0\n",
       "2     16.91        29.70      6.66        119              I0\n",
       "3     15.64        32.50      7.44        137              I0\n",
       "4     17.36        32.10      8.20        150              I0"
      ]
     },
     "execution_count": 21,
     "metadata": {},
     "output_type": "execute_result"
    }
   ],
   "source": [
    "final_data.head()"
   ]
  },
  {
   "cell_type": "code",
   "execution_count": 22,
   "id": "HsKuXEXH3QzW",
   "metadata": {
    "id": "HsKuXEXH3QzW"
   },
   "outputs": [],
   "source": [
    "final_data[\"DaysAfterSeed\"] = final_data[\"DayOfYear\"] - 62\n",
    "final_data.drop(columns=[\"DayOfYear\"], inplace=True)\n"
   ]
  },
  {
   "cell_type": "code",
   "execution_count": 23,
   "id": "VwpM9rre4YHu",
   "metadata": {
    "colab": {
     "base_uri": "https://localhost:8080/",
     "height": 614
    },
    "id": "VwpM9rre4YHu",
    "outputId": "7c6c9240-8bcd-40a5-a94e-bdfb8020b701"
   },
   "outputs": [
    {
     "data": {
      "text/html": [
       "<div>\n",
       "<style scoped>\n",
       "    .dataframe tbody tr th:only-of-type {\n",
       "        vertical-align: middle;\n",
       "    }\n",
       "\n",
       "    .dataframe tbody tr th {\n",
       "        vertical-align: top;\n",
       "    }\n",
       "\n",
       "    .dataframe thead th {\n",
       "        text-align: right;\n",
       "    }\n",
       "</style>\n",
       "<table border=\"1\" class=\"dataframe\">\n",
       "  <thead>\n",
       "    <tr style=\"text-align: right;\">\n",
       "      <th></th>\n",
       "      <th>Moisture</th>\n",
       "      <th>Temperature</th>\n",
       "      <th>Diameter</th>\n",
       "      <th>IrrigationLevel</th>\n",
       "      <th>DaysAfterSeed</th>\n",
       "    </tr>\n",
       "  </thead>\n",
       "  <tbody>\n",
       "    <tr>\n",
       "      <th>0</th>\n",
       "      <td>17.65</td>\n",
       "      <td>31.10</td>\n",
       "      <td>5.02</td>\n",
       "      <td>I0</td>\n",
       "      <td>28</td>\n",
       "    </tr>\n",
       "    <tr>\n",
       "      <th>1</th>\n",
       "      <td>16.71</td>\n",
       "      <td>32.65</td>\n",
       "      <td>5.80</td>\n",
       "      <td>I0</td>\n",
       "      <td>46</td>\n",
       "    </tr>\n",
       "    <tr>\n",
       "      <th>2</th>\n",
       "      <td>16.91</td>\n",
       "      <td>29.70</td>\n",
       "      <td>6.66</td>\n",
       "      <td>I0</td>\n",
       "      <td>57</td>\n",
       "    </tr>\n",
       "    <tr>\n",
       "      <th>3</th>\n",
       "      <td>15.64</td>\n",
       "      <td>32.50</td>\n",
       "      <td>7.44</td>\n",
       "      <td>I0</td>\n",
       "      <td>75</td>\n",
       "    </tr>\n",
       "    <tr>\n",
       "      <th>4</th>\n",
       "      <td>17.36</td>\n",
       "      <td>32.10</td>\n",
       "      <td>8.20</td>\n",
       "      <td>I0</td>\n",
       "      <td>88</td>\n",
       "    </tr>\n",
       "    <tr>\n",
       "      <th>5</th>\n",
       "      <td>16.58</td>\n",
       "      <td>31.55</td>\n",
       "      <td>9.03</td>\n",
       "      <td>I0</td>\n",
       "      <td>99</td>\n",
       "    </tr>\n",
       "    <tr>\n",
       "      <th>0</th>\n",
       "      <td>5.73</td>\n",
       "      <td>31.23</td>\n",
       "      <td>4.93</td>\n",
       "      <td>I3</td>\n",
       "      <td>28</td>\n",
       "    </tr>\n",
       "    <tr>\n",
       "      <th>1</th>\n",
       "      <td>18.12</td>\n",
       "      <td>31.27</td>\n",
       "      <td>5.56</td>\n",
       "      <td>I3</td>\n",
       "      <td>46</td>\n",
       "    </tr>\n",
       "    <tr>\n",
       "      <th>2</th>\n",
       "      <td>1.98</td>\n",
       "      <td>31.20</td>\n",
       "      <td>6.31</td>\n",
       "      <td>I3</td>\n",
       "      <td>57</td>\n",
       "    </tr>\n",
       "    <tr>\n",
       "      <th>3</th>\n",
       "      <td>8.53</td>\n",
       "      <td>32.07</td>\n",
       "      <td>6.49</td>\n",
       "      <td>I3</td>\n",
       "      <td>75</td>\n",
       "    </tr>\n",
       "    <tr>\n",
       "      <th>4</th>\n",
       "      <td>4.94</td>\n",
       "      <td>32.17</td>\n",
       "      <td>6.91</td>\n",
       "      <td>I3</td>\n",
       "      <td>88</td>\n",
       "    </tr>\n",
       "    <tr>\n",
       "      <th>5</th>\n",
       "      <td>9.25</td>\n",
       "      <td>31.60</td>\n",
       "      <td>7.34</td>\n",
       "      <td>I3</td>\n",
       "      <td>99</td>\n",
       "    </tr>\n",
       "    <tr>\n",
       "      <th>0</th>\n",
       "      <td>7.03</td>\n",
       "      <td>32.10</td>\n",
       "      <td>4.96</td>\n",
       "      <td>I5</td>\n",
       "      <td>28</td>\n",
       "    </tr>\n",
       "    <tr>\n",
       "      <th>1</th>\n",
       "      <td>6.53</td>\n",
       "      <td>31.53</td>\n",
       "      <td>5.43</td>\n",
       "      <td>I5</td>\n",
       "      <td>46</td>\n",
       "    </tr>\n",
       "    <tr>\n",
       "      <th>2</th>\n",
       "      <td>6.26</td>\n",
       "      <td>31.03</td>\n",
       "      <td>6.06</td>\n",
       "      <td>I5</td>\n",
       "      <td>57</td>\n",
       "    </tr>\n",
       "    <tr>\n",
       "      <th>3</th>\n",
       "      <td>1.58</td>\n",
       "      <td>31.87</td>\n",
       "      <td>6.38</td>\n",
       "      <td>I5</td>\n",
       "      <td>75</td>\n",
       "    </tr>\n",
       "    <tr>\n",
       "      <th>4</th>\n",
       "      <td>17.42</td>\n",
       "      <td>32.53</td>\n",
       "      <td>6.61</td>\n",
       "      <td>I5</td>\n",
       "      <td>88</td>\n",
       "    </tr>\n",
       "    <tr>\n",
       "      <th>5</th>\n",
       "      <td>4.47</td>\n",
       "      <td>32.10</td>\n",
       "      <td>6.97</td>\n",
       "      <td>I5</td>\n",
       "      <td>99</td>\n",
       "    </tr>\n",
       "  </tbody>\n",
       "</table>\n",
       "</div>"
      ],
      "text/plain": [
       "   Moisture  Temperature  Diameter IrrigationLevel  DaysAfterSeed\n",
       "0     17.65        31.10      5.02              I0             28\n",
       "1     16.71        32.65      5.80              I0             46\n",
       "2     16.91        29.70      6.66              I0             57\n",
       "3     15.64        32.50      7.44              I0             75\n",
       "4     17.36        32.10      8.20              I0             88\n",
       "5     16.58        31.55      9.03              I0             99\n",
       "0      5.73        31.23      4.93              I3             28\n",
       "1     18.12        31.27      5.56              I3             46\n",
       "2      1.98        31.20      6.31              I3             57\n",
       "3      8.53        32.07      6.49              I3             75\n",
       "4      4.94        32.17      6.91              I3             88\n",
       "5      9.25        31.60      7.34              I3             99\n",
       "0      7.03        32.10      4.96              I5             28\n",
       "1      6.53        31.53      5.43              I5             46\n",
       "2      6.26        31.03      6.06              I5             57\n",
       "3      1.58        31.87      6.38              I5             75\n",
       "4     17.42        32.53      6.61              I5             88\n",
       "5      4.47        32.10      6.97              I5             99"
      ]
     },
     "execution_count": 23,
     "metadata": {},
     "output_type": "execute_result"
    }
   ],
   "source": [
    "final_data"
   ]
  },
  {
   "cell_type": "code",
   "execution_count": 24,
   "id": "46c6dfd2-e84e-4df4-af7c-08d460fd28ed",
   "metadata": {
    "id": "46c6dfd2-e84e-4df4-af7c-08d460fd28ed"
   },
   "outputs": [],
   "source": [
    "# Separate features and target\n",
    "X = final_data[['Moisture', 'Temperature', 'DaysAfterSeed', 'IrrigationLevel']]\n",
    "y = final_data['Diameter']\n"
   ]
  },
  {
   "cell_type": "code",
   "execution_count": 25,
   "id": "69c84c85-2cbe-4719-818c-49211518844f",
   "metadata": {
    "id": "69c84c85-2cbe-4719-818c-49211518844f"
   },
   "outputs": [],
   "source": [
    "# Encode categorical data\n",
    "X = pd.get_dummies(X, columns=['IrrigationLevel'])"
   ]
  },
  {
   "cell_type": "code",
   "execution_count": 26,
   "id": "7_lU_uIhJOT1",
   "metadata": {
    "colab": {
     "base_uri": "https://localhost:8080/",
     "height": 614
    },
    "id": "7_lU_uIhJOT1",
    "outputId": "af1563f3-d649-4c5e-df44-3d483e908aa8"
   },
   "outputs": [
    {
     "data": {
      "text/html": [
       "<div>\n",
       "<style scoped>\n",
       "    .dataframe tbody tr th:only-of-type {\n",
       "        vertical-align: middle;\n",
       "    }\n",
       "\n",
       "    .dataframe tbody tr th {\n",
       "        vertical-align: top;\n",
       "    }\n",
       "\n",
       "    .dataframe thead th {\n",
       "        text-align: right;\n",
       "    }\n",
       "</style>\n",
       "<table border=\"1\" class=\"dataframe\">\n",
       "  <thead>\n",
       "    <tr style=\"text-align: right;\">\n",
       "      <th></th>\n",
       "      <th>Moisture</th>\n",
       "      <th>Temperature</th>\n",
       "      <th>DaysAfterSeed</th>\n",
       "      <th>IrrigationLevel_I0</th>\n",
       "      <th>IrrigationLevel_I3</th>\n",
       "      <th>IrrigationLevel_I5</th>\n",
       "    </tr>\n",
       "  </thead>\n",
       "  <tbody>\n",
       "    <tr>\n",
       "      <th>0</th>\n",
       "      <td>17.65</td>\n",
       "      <td>31.10</td>\n",
       "      <td>28</td>\n",
       "      <td>True</td>\n",
       "      <td>False</td>\n",
       "      <td>False</td>\n",
       "    </tr>\n",
       "    <tr>\n",
       "      <th>1</th>\n",
       "      <td>16.71</td>\n",
       "      <td>32.65</td>\n",
       "      <td>46</td>\n",
       "      <td>True</td>\n",
       "      <td>False</td>\n",
       "      <td>False</td>\n",
       "    </tr>\n",
       "    <tr>\n",
       "      <th>2</th>\n",
       "      <td>16.91</td>\n",
       "      <td>29.70</td>\n",
       "      <td>57</td>\n",
       "      <td>True</td>\n",
       "      <td>False</td>\n",
       "      <td>False</td>\n",
       "    </tr>\n",
       "    <tr>\n",
       "      <th>3</th>\n",
       "      <td>15.64</td>\n",
       "      <td>32.50</td>\n",
       "      <td>75</td>\n",
       "      <td>True</td>\n",
       "      <td>False</td>\n",
       "      <td>False</td>\n",
       "    </tr>\n",
       "    <tr>\n",
       "      <th>4</th>\n",
       "      <td>17.36</td>\n",
       "      <td>32.10</td>\n",
       "      <td>88</td>\n",
       "      <td>True</td>\n",
       "      <td>False</td>\n",
       "      <td>False</td>\n",
       "    </tr>\n",
       "    <tr>\n",
       "      <th>5</th>\n",
       "      <td>16.58</td>\n",
       "      <td>31.55</td>\n",
       "      <td>99</td>\n",
       "      <td>True</td>\n",
       "      <td>False</td>\n",
       "      <td>False</td>\n",
       "    </tr>\n",
       "    <tr>\n",
       "      <th>0</th>\n",
       "      <td>5.73</td>\n",
       "      <td>31.23</td>\n",
       "      <td>28</td>\n",
       "      <td>False</td>\n",
       "      <td>True</td>\n",
       "      <td>False</td>\n",
       "    </tr>\n",
       "    <tr>\n",
       "      <th>1</th>\n",
       "      <td>18.12</td>\n",
       "      <td>31.27</td>\n",
       "      <td>46</td>\n",
       "      <td>False</td>\n",
       "      <td>True</td>\n",
       "      <td>False</td>\n",
       "    </tr>\n",
       "    <tr>\n",
       "      <th>2</th>\n",
       "      <td>1.98</td>\n",
       "      <td>31.20</td>\n",
       "      <td>57</td>\n",
       "      <td>False</td>\n",
       "      <td>True</td>\n",
       "      <td>False</td>\n",
       "    </tr>\n",
       "    <tr>\n",
       "      <th>3</th>\n",
       "      <td>8.53</td>\n",
       "      <td>32.07</td>\n",
       "      <td>75</td>\n",
       "      <td>False</td>\n",
       "      <td>True</td>\n",
       "      <td>False</td>\n",
       "    </tr>\n",
       "    <tr>\n",
       "      <th>4</th>\n",
       "      <td>4.94</td>\n",
       "      <td>32.17</td>\n",
       "      <td>88</td>\n",
       "      <td>False</td>\n",
       "      <td>True</td>\n",
       "      <td>False</td>\n",
       "    </tr>\n",
       "    <tr>\n",
       "      <th>5</th>\n",
       "      <td>9.25</td>\n",
       "      <td>31.60</td>\n",
       "      <td>99</td>\n",
       "      <td>False</td>\n",
       "      <td>True</td>\n",
       "      <td>False</td>\n",
       "    </tr>\n",
       "    <tr>\n",
       "      <th>0</th>\n",
       "      <td>7.03</td>\n",
       "      <td>32.10</td>\n",
       "      <td>28</td>\n",
       "      <td>False</td>\n",
       "      <td>False</td>\n",
       "      <td>True</td>\n",
       "    </tr>\n",
       "    <tr>\n",
       "      <th>1</th>\n",
       "      <td>6.53</td>\n",
       "      <td>31.53</td>\n",
       "      <td>46</td>\n",
       "      <td>False</td>\n",
       "      <td>False</td>\n",
       "      <td>True</td>\n",
       "    </tr>\n",
       "    <tr>\n",
       "      <th>2</th>\n",
       "      <td>6.26</td>\n",
       "      <td>31.03</td>\n",
       "      <td>57</td>\n",
       "      <td>False</td>\n",
       "      <td>False</td>\n",
       "      <td>True</td>\n",
       "    </tr>\n",
       "    <tr>\n",
       "      <th>3</th>\n",
       "      <td>1.58</td>\n",
       "      <td>31.87</td>\n",
       "      <td>75</td>\n",
       "      <td>False</td>\n",
       "      <td>False</td>\n",
       "      <td>True</td>\n",
       "    </tr>\n",
       "    <tr>\n",
       "      <th>4</th>\n",
       "      <td>17.42</td>\n",
       "      <td>32.53</td>\n",
       "      <td>88</td>\n",
       "      <td>False</td>\n",
       "      <td>False</td>\n",
       "      <td>True</td>\n",
       "    </tr>\n",
       "    <tr>\n",
       "      <th>5</th>\n",
       "      <td>4.47</td>\n",
       "      <td>32.10</td>\n",
       "      <td>99</td>\n",
       "      <td>False</td>\n",
       "      <td>False</td>\n",
       "      <td>True</td>\n",
       "    </tr>\n",
       "  </tbody>\n",
       "</table>\n",
       "</div>"
      ],
      "text/plain": [
       "   Moisture  Temperature  DaysAfterSeed  IrrigationLevel_I0  \\\n",
       "0     17.65        31.10             28                True   \n",
       "1     16.71        32.65             46                True   \n",
       "2     16.91        29.70             57                True   \n",
       "3     15.64        32.50             75                True   \n",
       "4     17.36        32.10             88                True   \n",
       "5     16.58        31.55             99                True   \n",
       "0      5.73        31.23             28               False   \n",
       "1     18.12        31.27             46               False   \n",
       "2      1.98        31.20             57               False   \n",
       "3      8.53        32.07             75               False   \n",
       "4      4.94        32.17             88               False   \n",
       "5      9.25        31.60             99               False   \n",
       "0      7.03        32.10             28               False   \n",
       "1      6.53        31.53             46               False   \n",
       "2      6.26        31.03             57               False   \n",
       "3      1.58        31.87             75               False   \n",
       "4     17.42        32.53             88               False   \n",
       "5      4.47        32.10             99               False   \n",
       "\n",
       "   IrrigationLevel_I3  IrrigationLevel_I5  \n",
       "0               False               False  \n",
       "1               False               False  \n",
       "2               False               False  \n",
       "3               False               False  \n",
       "4               False               False  \n",
       "5               False               False  \n",
       "0                True               False  \n",
       "1                True               False  \n",
       "2                True               False  \n",
       "3                True               False  \n",
       "4                True               False  \n",
       "5                True               False  \n",
       "0               False                True  \n",
       "1               False                True  \n",
       "2               False                True  \n",
       "3               False                True  \n",
       "4               False                True  \n",
       "5               False                True  "
      ]
     },
     "execution_count": 26,
     "metadata": {},
     "output_type": "execute_result"
    }
   ],
   "source": [
    "X"
   ]
  },
  {
   "cell_type": "code",
   "execution_count": 27,
   "id": "6f91cc08-9a56-4a60-a316-5422431a811b",
   "metadata": {
    "id": "6f91cc08-9a56-4a60-a316-5422431a811b"
   },
   "outputs": [],
   "source": [
    "# splitting dataset to Training and testing data\n",
    "X_train, X_test, y_train, y_test = train_test_split(X, y, test_size=0.2, random_state=42)"
   ]
  },
  {
   "cell_type": "code",
   "execution_count": 29,
   "id": "mk8Eh24TKOs6",
   "metadata": {
    "colab": {
     "base_uri": "https://localhost:8080/",
     "height": 488
    },
    "id": "mk8Eh24TKOs6",
    "outputId": "65517d43-96e7-4794-cfd3-e2c06501b213"
   },
   "outputs": [
    {
     "data": {
      "text/html": [
       "<div>\n",
       "<style scoped>\n",
       "    .dataframe tbody tr th:only-of-type {\n",
       "        vertical-align: middle;\n",
       "    }\n",
       "\n",
       "    .dataframe tbody tr th {\n",
       "        vertical-align: top;\n",
       "    }\n",
       "\n",
       "    .dataframe thead th {\n",
       "        text-align: right;\n",
       "    }\n",
       "</style>\n",
       "<table border=\"1\" class=\"dataframe\">\n",
       "  <thead>\n",
       "    <tr style=\"text-align: right;\">\n",
       "      <th></th>\n",
       "      <th>Moisture</th>\n",
       "      <th>Temperature</th>\n",
       "      <th>DaysAfterSeed</th>\n",
       "      <th>IrrigationLevel_I0</th>\n",
       "      <th>IrrigationLevel_I3</th>\n",
       "      <th>IrrigationLevel_I5</th>\n",
       "    </tr>\n",
       "  </thead>\n",
       "  <tbody>\n",
       "    <tr>\n",
       "      <th>3</th>\n",
       "      <td>15.64</td>\n",
       "      <td>32.50</td>\n",
       "      <td>75</td>\n",
       "      <td>True</td>\n",
       "      <td>False</td>\n",
       "      <td>False</td>\n",
       "    </tr>\n",
       "    <tr>\n",
       "      <th>1</th>\n",
       "      <td>6.53</td>\n",
       "      <td>31.53</td>\n",
       "      <td>46</td>\n",
       "      <td>False</td>\n",
       "      <td>False</td>\n",
       "      <td>True</td>\n",
       "    </tr>\n",
       "    <tr>\n",
       "      <th>4</th>\n",
       "      <td>17.42</td>\n",
       "      <td>32.53</td>\n",
       "      <td>88</td>\n",
       "      <td>False</td>\n",
       "      <td>False</td>\n",
       "      <td>True</td>\n",
       "    </tr>\n",
       "    <tr>\n",
       "      <th>3</th>\n",
       "      <td>1.58</td>\n",
       "      <td>31.87</td>\n",
       "      <td>75</td>\n",
       "      <td>False</td>\n",
       "      <td>False</td>\n",
       "      <td>True</td>\n",
       "    </tr>\n",
       "    <tr>\n",
       "      <th>5</th>\n",
       "      <td>9.25</td>\n",
       "      <td>31.60</td>\n",
       "      <td>99</td>\n",
       "      <td>False</td>\n",
       "      <td>True</td>\n",
       "      <td>False</td>\n",
       "    </tr>\n",
       "    <tr>\n",
       "      <th>2</th>\n",
       "      <td>16.91</td>\n",
       "      <td>29.70</td>\n",
       "      <td>57</td>\n",
       "      <td>True</td>\n",
       "      <td>False</td>\n",
       "      <td>False</td>\n",
       "    </tr>\n",
       "    <tr>\n",
       "      <th>3</th>\n",
       "      <td>8.53</td>\n",
       "      <td>32.07</td>\n",
       "      <td>75</td>\n",
       "      <td>False</td>\n",
       "      <td>True</td>\n",
       "      <td>False</td>\n",
       "    </tr>\n",
       "    <tr>\n",
       "      <th>5</th>\n",
       "      <td>4.47</td>\n",
       "      <td>32.10</td>\n",
       "      <td>99</td>\n",
       "      <td>False</td>\n",
       "      <td>False</td>\n",
       "      <td>True</td>\n",
       "    </tr>\n",
       "    <tr>\n",
       "      <th>4</th>\n",
       "      <td>17.36</td>\n",
       "      <td>32.10</td>\n",
       "      <td>88</td>\n",
       "      <td>True</td>\n",
       "      <td>False</td>\n",
       "      <td>False</td>\n",
       "    </tr>\n",
       "    <tr>\n",
       "      <th>0</th>\n",
       "      <td>7.03</td>\n",
       "      <td>32.10</td>\n",
       "      <td>28</td>\n",
       "      <td>False</td>\n",
       "      <td>False</td>\n",
       "      <td>True</td>\n",
       "    </tr>\n",
       "    <tr>\n",
       "      <th>1</th>\n",
       "      <td>18.12</td>\n",
       "      <td>31.27</td>\n",
       "      <td>46</td>\n",
       "      <td>False</td>\n",
       "      <td>True</td>\n",
       "      <td>False</td>\n",
       "    </tr>\n",
       "    <tr>\n",
       "      <th>4</th>\n",
       "      <td>4.94</td>\n",
       "      <td>32.17</td>\n",
       "      <td>88</td>\n",
       "      <td>False</td>\n",
       "      <td>True</td>\n",
       "      <td>False</td>\n",
       "    </tr>\n",
       "    <tr>\n",
       "      <th>2</th>\n",
       "      <td>6.26</td>\n",
       "      <td>31.03</td>\n",
       "      <td>57</td>\n",
       "      <td>False</td>\n",
       "      <td>False</td>\n",
       "      <td>True</td>\n",
       "    </tr>\n",
       "    <tr>\n",
       "      <th>0</th>\n",
       "      <td>5.73</td>\n",
       "      <td>31.23</td>\n",
       "      <td>28</td>\n",
       "      <td>False</td>\n",
       "      <td>True</td>\n",
       "      <td>False</td>\n",
       "    </tr>\n",
       "  </tbody>\n",
       "</table>\n",
       "</div>"
      ],
      "text/plain": [
       "   Moisture  Temperature  DaysAfterSeed  IrrigationLevel_I0  \\\n",
       "3     15.64        32.50             75                True   \n",
       "1      6.53        31.53             46               False   \n",
       "4     17.42        32.53             88               False   \n",
       "3      1.58        31.87             75               False   \n",
       "5      9.25        31.60             99               False   \n",
       "2     16.91        29.70             57                True   \n",
       "3      8.53        32.07             75               False   \n",
       "5      4.47        32.10             99               False   \n",
       "4     17.36        32.10             88                True   \n",
       "0      7.03        32.10             28               False   \n",
       "1     18.12        31.27             46               False   \n",
       "4      4.94        32.17             88               False   \n",
       "2      6.26        31.03             57               False   \n",
       "0      5.73        31.23             28               False   \n",
       "\n",
       "   IrrigationLevel_I3  IrrigationLevel_I5  \n",
       "3               False               False  \n",
       "1               False                True  \n",
       "4               False                True  \n",
       "3               False                True  \n",
       "5                True               False  \n",
       "2               False               False  \n",
       "3                True               False  \n",
       "5               False                True  \n",
       "4               False               False  \n",
       "0               False                True  \n",
       "1                True               False  \n",
       "4                True               False  \n",
       "2               False                True  \n",
       "0                True               False  "
      ]
     },
     "execution_count": 29,
     "metadata": {},
     "output_type": "execute_result"
    }
   ],
   "source": [
    "X_train"
   ]
  },
  {
   "cell_type": "code",
   "execution_count": 30,
   "id": "5631a5c4-64f8-4eb0-a2cb-abdb29ef1b9a",
   "metadata": {
    "id": "5631a5c4-64f8-4eb0-a2cb-abdb29ef1b9a"
   },
   "outputs": [],
   "source": [
    "# Scale the features using StandardScalar\n",
    "scaler = StandardScaler()   # MinMaxScaler gives same results\n",
    "X_train_scaled = scaler.fit_transform(X_train)\n",
    "X_test_scaled = scaler.transform(X_test)"
   ]
  },
  {
   "cell_type": "code",
   "execution_count": 31,
   "id": "01H-zKVqK45p",
   "metadata": {
    "colab": {
     "base_uri": "https://localhost:8080/"
    },
    "id": "01H-zKVqK45p",
    "outputId": "6553f0ce-02d8-4823-b251-6fd202c61c2f"
   },
   "outputs": [
    {
     "data": {
      "text/plain": [
       "array([[ 1.01173602,  1.12423057,  0.30805141,  1.91485422, -0.74535599,\n",
       "        -0.8660254 ],\n",
       "       [-0.6177224 , -0.238899  , -0.93025426, -0.52223297, -0.74535599,\n",
       "         1.15470054],\n",
       "       [ 1.33011538,  1.16638922,  0.86315395, -0.52223297, -0.74535599,\n",
       "         1.15470054],\n",
       "       [-1.5031032 ,  0.238899  ,  0.30805141, -0.52223297, -0.74535599,\n",
       "         1.15470054],\n",
       "       [-0.13121011, -0.14052882,  1.3328561 , -0.52223297,  1.34164079,\n",
       "        -0.8660254 ],\n",
       "       [ 1.23889433, -2.81057643, -0.46055211,  1.91485422, -0.74535599,\n",
       "        -0.8660254 ],\n",
       "       [-0.25999278,  0.51995664,  0.30805141, -0.52223297,  1.34164079,\n",
       "        -0.8660254 ],\n",
       "       [-0.9861839 ,  0.56211529,  1.3328561 , -0.52223297, -0.74535599,\n",
       "         1.15470054],\n",
       "       [ 1.31938349,  0.56211529,  0.86315395,  1.91485422, -0.74535599,\n",
       "        -0.8660254 ],\n",
       "       [-0.52828999,  0.56211529, -1.69885778, -0.52223297, -0.74535599,\n",
       "         1.15470054],\n",
       "       [ 1.45532075, -0.60427393, -0.93025426, -0.52223297,  1.34164079,\n",
       "        -0.8660254 ],\n",
       "       [-0.90211744,  0.66048546,  0.86315395, -0.52223297,  1.34164079,\n",
       "        -0.8660254 ],\n",
       "       [-0.66601589, -0.9415431 , -0.46055211, -0.52223297, -0.74535599,\n",
       "         1.15470054],\n",
       "       [-0.76081424, -0.66048546, -1.69885778, -0.52223297,  1.34164079,\n",
       "        -0.8660254 ]])"
      ]
     },
     "execution_count": 31,
     "metadata": {},
     "output_type": "execute_result"
    }
   ],
   "source": [
    "X_train_scaled"
   ]
  },
  {
   "cell_type": "code",
   "execution_count": 32,
   "id": "dbf2859d-55bf-4301-9a9b-81e1ba7497f7",
   "metadata": {
    "id": "dbf2859d-55bf-4301-9a9b-81e1ba7497f7"
   },
   "outputs": [],
   "source": [
    "# Define models\n",
    "models = {\n",
    "    \"Linear Regression\": LinearRegression(),\n",
    "    \"Random Forest\": RandomForestRegressor(n_estimators=50, random_state=42),\n",
    "    \"Gradient Boosting\": GradientBoostingRegressor(n_estimators=50, random_state=42)\n",
    "}"
   ]
  },
  {
   "cell_type": "code",
   "execution_count": 33,
   "id": "8f7f3bd3-6e4c-477b-8bd5-5d464cc48294",
   "metadata": {
    "colab": {
     "base_uri": "https://localhost:8080/"
    },
    "id": "8f7f3bd3-6e4c-477b-8bd5-5d464cc48294",
    "outputId": "e598e9b3-184e-4989-e709-1a7bc2f7e674"
   },
   "outputs": [
    {
     "name": "stdout",
     "output_type": "stream",
     "text": [
      "Model: Linear Regression\n",
      "  Mean Absolute Error (MAE): 0.7490697205433368\n",
      "  Mean Squared Error (MSE): 0.6149796612837033\n",
      "  R-Squared (R2): 0.7300056365783324\n",
      "\n",
      "Model: Random Forest\n",
      "  Mean Absolute Error (MAE): 0.49310000000000076\n",
      "  Mean Squared Error (MSE): 0.5883156400000031\n",
      "  R-Squared (R2): 0.7417119350235964\n",
      "\n",
      "Model: Gradient Boosting\n",
      "  Mean Absolute Error (MAE): 0.4689097055581195\n",
      "  Mean Squared Error (MSE): 0.3051006987358595\n",
      "  R-Squared (R2): 0.8660517182588697\n",
      "\n"
     ]
    }
   ],
   "source": [
    "results = []\n",
    "for model_name, model in models.items():\n",
    "    # Train the model\n",
    "    model.fit(X_train_scaled, y_train)\n",
    "\n",
    "    # Predict\n",
    "    y_pred = model.predict(X_test_scaled)\n",
    "\n",
    "    # Evaluate\n",
    "    mae = mean_absolute_error(y_test, y_pred)\n",
    "    mse = mean_squared_error(y_test, y_pred)\n",
    "    r2 = r2_score(y_test, y_pred)\n",
    "\n",
    "    results.append([model_name, mae, mse, r2])\n",
    "\n",
    "    print(f\"Model: {model_name}\")\n",
    "    print(f\"  Mean Absolute Error (MAE): {mae}\")\n",
    "    print(f\"  Mean Squared Error (MSE): {mse}\")\n",
    "    print(f\"  R-Squared (R2): {r2}\")\n",
    "    print()\n"
   ]
  },
  {
   "cell_type": "code",
   "execution_count": 34,
   "id": "f0d3945d-35dc-4c79-8a11-bf15dd40e267",
   "metadata": {
    "id": "f0d3945d-35dc-4c79-8a11-bf15dd40e267"
   },
   "outputs": [],
   "source": [
    "# Save results to CSV\n",
    "results_df = pd.DataFrame(results, columns=['Model', 'MAE', 'MSE', 'R2'])\n",
    "results_df.to_csv('model_evaluation_results.csv', index=False)"
   ]
  },
  {
   "cell_type": "code",
   "execution_count": 35,
   "id": "4EEEKNxJSWVN",
   "metadata": {
    "colab": {
     "base_uri": "https://localhost:8080/",
     "height": 143
    },
    "id": "4EEEKNxJSWVN",
    "outputId": "4b153b0a-c487-4003-d107-dfc79db4856c"
   },
   "outputs": [
    {
     "data": {
      "text/html": [
       "<div>\n",
       "<style scoped>\n",
       "    .dataframe tbody tr th:only-of-type {\n",
       "        vertical-align: middle;\n",
       "    }\n",
       "\n",
       "    .dataframe tbody tr th {\n",
       "        vertical-align: top;\n",
       "    }\n",
       "\n",
       "    .dataframe thead th {\n",
       "        text-align: right;\n",
       "    }\n",
       "</style>\n",
       "<table border=\"1\" class=\"dataframe\">\n",
       "  <thead>\n",
       "    <tr style=\"text-align: right;\">\n",
       "      <th></th>\n",
       "      <th>Model</th>\n",
       "      <th>MAE</th>\n",
       "      <th>MSE</th>\n",
       "      <th>R2</th>\n",
       "    </tr>\n",
       "  </thead>\n",
       "  <tbody>\n",
       "    <tr>\n",
       "      <th>0</th>\n",
       "      <td>Linear Regression</td>\n",
       "      <td>0.74907</td>\n",
       "      <td>0.614980</td>\n",
       "      <td>0.730006</td>\n",
       "    </tr>\n",
       "    <tr>\n",
       "      <th>1</th>\n",
       "      <td>Random Forest</td>\n",
       "      <td>0.49310</td>\n",
       "      <td>0.588316</td>\n",
       "      <td>0.741712</td>\n",
       "    </tr>\n",
       "    <tr>\n",
       "      <th>2</th>\n",
       "      <td>Gradient Boosting</td>\n",
       "      <td>0.46891</td>\n",
       "      <td>0.305101</td>\n",
       "      <td>0.866052</td>\n",
       "    </tr>\n",
       "  </tbody>\n",
       "</table>\n",
       "</div>"
      ],
      "text/plain": [
       "               Model      MAE       MSE        R2\n",
       "0  Linear Regression  0.74907  0.614980  0.730006\n",
       "1      Random Forest  0.49310  0.588316  0.741712\n",
       "2  Gradient Boosting  0.46891  0.305101  0.866052"
      ]
     },
     "execution_count": 35,
     "metadata": {},
     "output_type": "execute_result"
    }
   ],
   "source": [
    "results_df"
   ]
  },
  {
   "cell_type": "code",
   "execution_count": 36,
   "id": "578a6071-c36c-4a7f-a28d-968b7cc2263a",
   "metadata": {
    "colab": {
     "base_uri": "https://localhost:8080/"
    },
    "id": "578a6071-c36c-4a7f-a28d-968b7cc2263a",
    "outputId": "5720238f-a69c-4bcb-c7dc-e0c6b93a4e1d",
    "scrolled": true
   },
   "outputs": [
    {
     "name": "stdout",
     "output_type": "stream",
     "text": [
      "The best model is: Gradient Boosting\n"
     ]
    }
   ],
   "source": [
    "# Select the best model (based on R²)\n",
    "best_model_name = results_df.sort_values(by='R2', ascending=False).iloc[0]['Model']\n",
    "best_model = models[best_model_name]\n",
    "print(f\"The best model is: {best_model_name}\")"
   ]
  },
  {
   "cell_type": "code",
   "execution_count": 50,
   "id": "9927a667-9bf7-4939-a3c3-c41c6e02f0e3",
   "metadata": {
    "id": "9927a667-9bf7-4939-a3c3-c41c6e02f0e3"
   },
   "outputs": [],
   "source": [
    "# Predict using the best model for sample data\n",
    "sample_data = pd.DataFrame({\n",
    "    'Moisture': [16.0, 15.8],\n",
    "    'Temperature': [31.5, 32.1],\n",
    "    'DaysAfterSeed': [30, 100],\n",
    "    'IrrigationLevel_I0': [0, 1],\n",
    "    'IrrigationLevel_I3': [0, 1],\n",
    "    'IrrigationLevel_I5': [1, 0]\n",
    "})\n"
   ]
  },
  {
   "cell_type": "code",
   "execution_count": 51,
   "id": "34a82fc8-4160-4128-a373-1c600f1001c8",
   "metadata": {
    "id": "34a82fc8-4160-4128-a373-1c600f1001c8"
   },
   "outputs": [],
   "source": [
    "# Scale the sample data\n",
    "sample_scaled = scaler.transform(sample_data)"
   ]
  },
  {
   "cell_type": "code",
   "execution_count": 52,
   "id": "fb6ff8e3-ea17-42ce-a18a-5bb24530ced9",
   "metadata": {
    "colab": {
     "base_uri": "https://localhost:8080/"
    },
    "id": "fb6ff8e3-ea17-42ce-a18a-5bb24530ced9",
    "outputId": "3f041d19-8465-4378-81b8-bae51c53c086"
   },
   "outputs": [
    {
     "data": {
      "text/plain": [
       "array([[ 1.07612735, -0.28105764, -1.61345739, -0.52223297, -0.74535599,\n",
       "         1.15470054],\n",
       "       [ 1.04035439,  0.56211529,  1.3755563 ,  1.91485422,  1.34164079,\n",
       "        -0.8660254 ]])"
      ]
     },
     "execution_count": 52,
     "metadata": {},
     "output_type": "execute_result"
    }
   ],
   "source": [
    "sample_scaled"
   ]
  },
  {
   "cell_type": "code",
   "execution_count": 53,
   "id": "6742affc-7b69-4017-aa1a-368e11f45f37",
   "metadata": {
    "id": "6742affc-7b69-4017-aa1a-368e11f45f37"
   },
   "outputs": [],
   "source": [
    "# Predict\n",
    "sample_predictions = best_model.predict(sample_scaled)\n",
    "sample_data['Predicted_Diameter'] = sample_predictions"
   ]
  },
  {
   "cell_type": "code",
   "execution_count": 54,
   "id": "DTkux0KSSgpe",
   "metadata": {
    "colab": {
     "base_uri": "https://localhost:8080/",
     "height": 125
    },
    "id": "DTkux0KSSgpe",
    "outputId": "cf7016eb-7a07-49db-bd77-2cf90367fe26"
   },
   "outputs": [
    {
     "data": {
      "text/html": [
       "<div>\n",
       "<style scoped>\n",
       "    .dataframe tbody tr th:only-of-type {\n",
       "        vertical-align: middle;\n",
       "    }\n",
       "\n",
       "    .dataframe tbody tr th {\n",
       "        vertical-align: top;\n",
       "    }\n",
       "\n",
       "    .dataframe thead th {\n",
       "        text-align: right;\n",
       "    }\n",
       "</style>\n",
       "<table border=\"1\" class=\"dataframe\">\n",
       "  <thead>\n",
       "    <tr style=\"text-align: right;\">\n",
       "      <th></th>\n",
       "      <th>Moisture</th>\n",
       "      <th>Temperature</th>\n",
       "      <th>DaysAfterSeed</th>\n",
       "      <th>IrrigationLevel_I0</th>\n",
       "      <th>IrrigationLevel_I3</th>\n",
       "      <th>IrrigationLevel_I5</th>\n",
       "      <th>Predicted_Diameter</th>\n",
       "    </tr>\n",
       "  </thead>\n",
       "  <tbody>\n",
       "    <tr>\n",
       "      <th>0</th>\n",
       "      <td>16.0</td>\n",
       "      <td>31.5</td>\n",
       "      <td>30</td>\n",
       "      <td>0</td>\n",
       "      <td>0</td>\n",
       "      <td>1</td>\n",
       "      <td>5.028327</td>\n",
       "    </tr>\n",
       "    <tr>\n",
       "      <th>1</th>\n",
       "      <td>15.8</td>\n",
       "      <td>32.1</td>\n",
       "      <td>100</td>\n",
       "      <td>1</td>\n",
       "      <td>1</td>\n",
       "      <td>0</td>\n",
       "      <td>7.902267</td>\n",
       "    </tr>\n",
       "  </tbody>\n",
       "</table>\n",
       "</div>"
      ],
      "text/plain": [
       "   Moisture  Temperature  DaysAfterSeed  IrrigationLevel_I0  \\\n",
       "0      16.0         31.5             30                   0   \n",
       "1      15.8         32.1            100                   1   \n",
       "\n",
       "   IrrigationLevel_I3  IrrigationLevel_I5  Predicted_Diameter  \n",
       "0                   0                   1            5.028327  \n",
       "1                   1                   0            7.902267  "
      ]
     },
     "execution_count": 54,
     "metadata": {},
     "output_type": "execute_result"
    }
   ],
   "source": [
    "sample_data"
   ]
  },
  {
   "cell_type": "code",
   "execution_count": 55,
   "id": "43cad6e9-6b08-4a0c-88cc-52275591f81c",
   "metadata": {
    "colab": {
     "base_uri": "https://localhost:8080/"
    },
    "id": "43cad6e9-6b08-4a0c-88cc-52275591f81c",
    "outputId": "fa65a4c2-dad8-4f4f-b09c-ed63e64aeb51"
   },
   "outputs": [
    {
     "name": "stdout",
     "output_type": "stream",
     "text": [
      "Model Accuracy: 93.25%\n"
     ]
    }
   ],
   "source": [
    "def calculate_accuracy(y_true, y_pred):\n",
    "    # Mean Absolute Percentage Error (MAPE)\n",
    "    mape = np.mean(np.abs((y_true - y_pred) / y_true)) * 100\n",
    "    accuracy = 100 - mape\n",
    "    return accuracy\n",
    "\n",
    "\n",
    "# Predicting with the test data\n",
    "y_test_pred = best_model.predict(X_test_scaled)\n",
    "\n",
    "# Calculate accuracy\n",
    "accuracy_percentage = calculate_accuracy(y_test, y_test_pred)\n",
    "\n",
    "print(f\"Model Accuracy: {accuracy_percentage:.2f}%\")\n",
    "\n",
    "\n"
   ]
  },
  {
   "cell_type": "code",
   "execution_count": null,
   "id": "0a1fa7d8-5dd0-48ad-b8eb-716960b314ff",
   "metadata": {},
   "outputs": [],
   "source": []
  }
 ],
 "metadata": {
  "colab": {
   "provenance": []
  },
  "kernelspec": {
   "display_name": "Python 3 (ipykernel)",
   "language": "python",
   "name": "python3"
  },
  "language_info": {
   "codemirror_mode": {
    "name": "ipython",
    "version": 3
   },
   "file_extension": ".py",
   "mimetype": "text/x-python",
   "name": "python",
   "nbconvert_exporter": "python",
   "pygments_lexer": "ipython3",
   "version": "3.12.2"
  }
 },
 "nbformat": 4,
 "nbformat_minor": 5
}
